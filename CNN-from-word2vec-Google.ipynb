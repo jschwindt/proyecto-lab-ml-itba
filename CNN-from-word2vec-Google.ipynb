{
 "cells": [
  {
   "cell_type": "code",
   "execution_count": 1,
   "metadata": {
    "ExecuteTime": {
     "end_time": "2017-12-16T16:31:18.943226Z",
     "start_time": "2017-12-16T16:31:18.547543Z"
    },
    "collapsed": true
   },
   "outputs": [],
   "source": [
    "%load_ext autoreload\n",
    "%autoreload 2\n",
    "%matplotlib inline\n",
    "%config InlineBackend.figure_format='retina'"
   ]
  },
  {
   "cell_type": "code",
   "execution_count": 2,
   "metadata": {
    "ExecuteTime": {
     "end_time": "2017-12-16T16:31:22.630329Z",
     "start_time": "2017-12-16T16:31:20.474316Z"
    }
   },
   "outputs": [
    {
     "name": "stderr",
     "output_type": "stream",
     "text": [
      "Using TensorFlow backend.\n"
     ]
    }
   ],
   "source": [
    "import re\n",
    "import glob\n",
    "import nltk\n",
    "import numpy as np\n",
    "from fit_generator import label_from_id, all_labels\n",
    "from keras.models import Sequential, Model\n",
    "from keras.layers import Dense, Dropout, Flatten, Input, MaxPooling1D, Convolution1D, Embedding\n",
    "from keras.layers.merge import Concatenate\n",
    "from keras.preprocessing.text import Tokenizer\n",
    "from keras import optimizers\n",
    "from keras.callbacks import ModelCheckpoint \n",
    "from fnn_helper import PlotLosses\n",
    "from keras import regularizers\n",
    "from sklearn.model_selection import train_test_split\n",
    "from gensim.models import word2vec as w2v\n",
    "import gensim.downloader as gs_downloader\n",
    "import matplotlib.pyplot as plt\n",
    "import scipy\n",
    "import iterator_and_text_cleaner as it"
   ]
  },
  {
   "cell_type": "code",
   "execution_count": 3,
   "metadata": {
    "collapsed": true
   },
   "outputs": [],
   "source": [
    "w2v_model = gs_downloader.load(\"word2vec-google-news-300\")"
   ]
  },
  {
   "cell_type": "code",
   "execution_count": 4,
   "metadata": {
    "ExecuteTime": {
     "end_time": "2017-12-16T16:39:29.013243Z",
     "start_time": "2017-12-16T16:38:45.070154Z"
    },
    "collapsed": true
   },
   "outputs": [],
   "source": [
    "word2index = { word:idx for idx,word in enumerate(w2v_model.wv.index2word) }"
   ]
  },
  {
   "cell_type": "code",
   "execution_count": 5,
   "metadata": {},
   "outputs": [
    {
     "data": {
      "text/plain": [
       "3000000"
      ]
     },
     "execution_count": 5,
     "metadata": {},
     "output_type": "execute_result"
    }
   ],
   "source": [
    "len(word2index)"
   ]
  },
  {
   "cell_type": "code",
   "execution_count": 6,
   "metadata": {
    "ExecuteTime": {
     "end_time": "2017-12-16T16:43:40.155466Z",
     "start_time": "2017-12-16T16:43:40.121599Z"
    },
    "collapsed": true
   },
   "outputs": [],
   "source": [
    "source_path = '../converted/'\n",
    "words_per_article = 400"
   ]
  },
  {
   "cell_type": "code",
   "execution_count": 7,
   "metadata": {
    "ExecuteTime": {
     "end_time": "2017-12-16T16:43:41.534248Z",
     "start_time": "2017-12-16T16:43:41.082955Z"
    }
   },
   "outputs": [
    {
     "data": {
      "text/plain": [
       "130059"
      ]
     },
     "execution_count": 7,
     "metadata": {},
     "output_type": "execute_result"
    }
   ],
   "source": [
    "txt_files = glob.glob(source_path + '**/*')\n",
    "len(txt_files)"
   ]
  },
  {
   "cell_type": "code",
   "execution_count": 8,
   "metadata": {
    "ExecuteTime": {
     "end_time": "2017-12-16T16:43:43.129927Z",
     "start_time": "2017-12-16T16:43:42.749967Z"
    },
    "collapsed": true
   },
   "outputs": [],
   "source": [
    "NUM_CATEGORIES = 5\n",
    "Y = np.empty((len(txt_files), NUM_CATEGORIES))\n",
    "for idx, file in enumerate(txt_files):\n",
    "    Y[idx] = label_from_id(file)"
   ]
  },
  {
   "cell_type": "code",
   "execution_count": 9,
   "metadata": {
    "ExecuteTime": {
     "end_time": "2017-12-16T16:43:44.889614Z",
     "start_time": "2017-12-16T16:43:44.858424Z"
    }
   },
   "outputs": [
    {
     "data": {
      "text/plain": [
       "(130059, 5)"
      ]
     },
     "execution_count": 9,
     "metadata": {},
     "output_type": "execute_result"
    }
   ],
   "source": [
    "Y.shape"
   ]
  },
  {
   "cell_type": "code",
   "execution_count": 10,
   "metadata": {
    "ExecuteTime": {
     "end_time": "2017-12-16T16:43:45.946176Z",
     "start_time": "2017-12-16T16:43:45.880626Z"
    },
    "collapsed": true
   },
   "outputs": [],
   "source": [
    "x_train_files, x_test_files, y_train, y_test = train_test_split(txt_files, Y, test_size=0.33)"
   ]
  },
  {
   "cell_type": "code",
   "execution_count": 11,
   "metadata": {
    "ExecuteTime": {
     "end_time": "2017-12-16T16:43:47.453073Z",
     "start_time": "2017-12-16T16:43:47.423194Z"
    }
   },
   "outputs": [
    {
     "data": {
      "text/plain": [
       "87139"
      ]
     },
     "execution_count": 11,
     "metadata": {},
     "output_type": "execute_result"
    }
   ],
   "source": [
    "len(x_train_files)"
   ]
  },
  {
   "cell_type": "code",
   "execution_count": 12,
   "metadata": {
    "ExecuteTime": {
     "end_time": "2017-12-16T16:43:48.572612Z",
     "start_time": "2017-12-16T16:43:48.514217Z"
    },
    "collapsed": true
   },
   "outputs": [],
   "source": [
    "def batch_generator(x_files_param, y_param, batch_size):\n",
    "    number_of_batches = y_param.shape[0] // batch_size\n",
    "    counter=0\n",
    "    shuffle_index = np.arange(y_param.shape[0])\n",
    "    np.random.shuffle(shuffle_index)\n",
    "    x_files =  np.array(x_files_param)[shuffle_index]\n",
    "    y = y_param[shuffle_index]\n",
    "    while 1:\n",
    "        index_batch = shuffle_index[batch_size*counter:batch_size*(counter+1)]\n",
    "        X_batch = []\n",
    "        for xfile in x_files[index_batch]:\n",
    "            X_batch.append(it.article_indices(word2index, xfile, words_per_article, case_sensitive=False))\n",
    "        y_batch = y[index_batch]\n",
    "        counter += 1\n",
    "        yield(np.array(X_batch),y_batch)\n",
    "        if (counter >= number_of_batches):\n",
    "            np.random.shuffle(shuffle_index)\n",
    "            counter=0"
   ]
  },
  {
   "cell_type": "code",
   "execution_count": 13,
   "metadata": {
    "ExecuteTime": {
     "end_time": "2017-12-16T16:43:50.089557Z",
     "start_time": "2017-12-16T16:43:50.057200Z"
    },
    "collapsed": true
   },
   "outputs": [],
   "source": [
    "# Model Hyperparameters\n",
    "filter_sizes = (3, 4, 5, 6)\n",
    "num_filters = 2\n",
    "dropout_prob = 0.5\n",
    "hidden_dims = None\n",
    "\n",
    "# Training parameters\n",
    "batch_size = 25\n",
    "num_epochs = 40"
   ]
  },
  {
   "cell_type": "code",
   "execution_count": 14,
   "metadata": {
    "ExecuteTime": {
     "end_time": "2017-12-16T16:45:04.189136Z",
     "start_time": "2017-12-16T16:43:51.193615Z"
    }
   },
   "outputs": [
    {
     "name": "stdout",
     "output_type": "stream",
     "text": [
      "__________________________________________________________________________________________________\n",
      "Layer (type)                    Output Shape         Param #     Connected to                     \n",
      "==================================================================================================\n",
      "Input (InputLayer)              (None, 350)          0                                            \n",
      "__________________________________________________________________________________________________\n",
      "embedding_1 (Embedding)         (None, 350, 300)     900000000   Input[0][0]                      \n",
      "__________________________________________________________________________________________________\n",
      "conv1d_1 (Conv1D)               (None, 348, 2)       1802        embedding_1[0][0]                \n",
      "__________________________________________________________________________________________________\n",
      "conv1d_2 (Conv1D)               (None, 347, 2)       2402        embedding_1[0][0]                \n",
      "__________________________________________________________________________________________________\n",
      "conv1d_3 (Conv1D)               (None, 346, 2)       3002        embedding_1[0][0]                \n",
      "__________________________________________________________________________________________________\n",
      "conv1d_4 (Conv1D)               (None, 345, 2)       3602        embedding_1[0][0]                \n",
      "__________________________________________________________________________________________________\n",
      "max_pooling1d_1 (MaxPooling1D)  (None, 34, 2)        0           conv1d_1[0][0]                   \n",
      "__________________________________________________________________________________________________\n",
      "max_pooling1d_2 (MaxPooling1D)  (None, 34, 2)        0           conv1d_2[0][0]                   \n",
      "__________________________________________________________________________________________________\n",
      "max_pooling1d_3 (MaxPooling1D)  (None, 34, 2)        0           conv1d_3[0][0]                   \n",
      "__________________________________________________________________________________________________\n",
      "max_pooling1d_4 (MaxPooling1D)  (None, 34, 2)        0           conv1d_4[0][0]                   \n",
      "__________________________________________________________________________________________________\n",
      "flatten_1 (Flatten)             (None, 68)           0           max_pooling1d_1[0][0]            \n",
      "__________________________________________________________________________________________________\n",
      "flatten_2 (Flatten)             (None, 68)           0           max_pooling1d_2[0][0]            \n",
      "__________________________________________________________________________________________________\n",
      "flatten_3 (Flatten)             (None, 68)           0           max_pooling1d_3[0][0]            \n",
      "__________________________________________________________________________________________________\n",
      "flatten_4 (Flatten)             (None, 68)           0           max_pooling1d_4[0][0]            \n",
      "__________________________________________________________________________________________________\n",
      "concatenate_1 (Concatenate)     (None, 272)          0           flatten_1[0][0]                  \n",
      "                                                                 flatten_2[0][0]                  \n",
      "                                                                 flatten_3[0][0]                  \n",
      "                                                                 flatten_4[0][0]                  \n",
      "__________________________________________________________________________________________________\n",
      "dropout_1 (Dropout)             (None, 272)          0           concatenate_1[0][0]              \n",
      "__________________________________________________________________________________________________\n",
      "dense_1 (Dense)                 (None, 5)            1365        dropout_1[0][0]                  \n",
      "==================================================================================================\n",
      "Total params: 900,012,173\n",
      "Trainable params: 12,173\n",
      "Non-trainable params: 900,000,000\n",
      "__________________________________________________________________________________________________\n"
     ]
    }
   ],
   "source": [
    "model_input = Input(shape=(words_per_article,), name=\"Input\")\n",
    "embedding = w2v_model.wv.get_keras_embedding(train_embeddings=False)\n",
    "conv_input = embedding(model_input)\n",
    "\n",
    "conv_blocks = []\n",
    "for sz in filter_sizes:\n",
    "    conv = Convolution1D(filters=num_filters,\n",
    "                         kernel_size=sz,\n",
    "                         padding=\"valid\",\n",
    "                         activation=\"relu\",\n",
    "                         strides=1)(conv_input)\n",
    "    conv = MaxPooling1D(pool_size=10)(conv)\n",
    "    conv = Flatten()(conv)\n",
    "    conv_blocks.append(conv)\n",
    "z = Concatenate()(conv_blocks)\n",
    "z = Dropout(dropout_prob)(z)\n",
    "if hidden_dims != None:\n",
    "    z = Dense(hidden_dims, activation=\"relu\")(z)\n",
    "model_output = Dense(NUM_CATEGORIES, activation=\"sigmoid\")(z)\n",
    "model = Model(model_input, model_output)\n",
    "model.compile(loss=\"binary_crossentropy\", optimizer=\"adam\", metrics=[\"accuracy\"])\n",
    "model.summary()"
   ]
  },
  {
   "cell_type": "code",
   "execution_count": 15,
   "metadata": {
    "ExecuteTime": {
     "end_time": "2017-12-16T16:45:08.515494Z",
     "start_time": "2017-12-16T16:45:08.467943Z"
    },
    "collapsed": true
   },
   "outputs": [],
   "source": [
    "def train_model(model, x_train_files, x_test_files, y_train, y_test, weights_file=None, batch_size=16, epochs=10):\n",
    "    plot_losses = PlotLosses(plot_interval=1, evaluate_interval=None)\n",
    "    callbacks = [plot_losses]\n",
    "\n",
    "    if weights_file != None:\n",
    "        checkpointer = ModelCheckpoint(filepath=weights_file, verbose=0, save_best_only=True)\n",
    "        callbacks.append(checkpointer)\n",
    "\n",
    "    steps_per_epoch = y_train.shape[0] // batch_size\n",
    "    print(\"Steps per epoch = \", steps_per_epoch)\n",
    "    generator = batch_generator(x_train_files, y_train, batch_size=batch_size)\n",
    "    vals_per_epoc = y_test.shape[0] // batch_size\n",
    "    val_generator = batch_generator(x_test_files, y_test, batch_size=batch_size)\n",
    "    result = model.fit_generator(\n",
    "        generator,\n",
    "        steps_per_epoch=steps_per_epoch,\n",
    "        epochs=epochs,\n",
    "        validation_data=val_generator,\n",
    "        validation_steps=vals_per_epoc,\n",
    "        verbose=1,\n",
    "        callbacks=callbacks,\n",
    "    )\n",
    "    return result"
   ]
  },
  {
   "cell_type": "code",
   "execution_count": 16,
   "metadata": {
    "ExecuteTime": {
     "end_time": "2017-12-16T18:36:37.755889Z",
     "start_time": "2017-12-16T16:45:09.546838Z"
    }
   },
   "outputs": [
    {
     "data": {
      "image/png": "[encoded data removed]",
      "text/plain": [
       "<matplotlib.figure.Figure at 0x7fd090fdc278>"
      ]
     },
     "metadata": {
      "image/png": {
       "height": 311,
       "width": 1163
      }
     },
     "output_type": "display_data"
    },
    {
     "name": "stdout",
     "output_type": "stream",
     "text": [
      "\b\b\b\b\b\b\b\b\b\b\b\b\b\b\b\b\b\b\b\b\b\b\b\b\b\b\b\b\b\b\b\b\b\b\b\b\b\b\b\b\b\b\b\b\b\b\b\b\b\b\b\b\b\b\b\b\b\b\b\b\b\b\b\b\b\b\b\b\b\b\b\b\b\b\b\b\b\b\b\b\b\r",
      "3485/3485 [==============================] - 61s 18ms/step - loss: 0.0545 - acc: 0.9796 - val_loss: 0.0541 - val_acc: 0.9805\n"
     ]
    },
    {
     "data": {
      "text/plain": [
       "<keras.callbacks.History at 0x7fd1036ab080>"
      ]
     },
     "execution_count": 16,
     "metadata": {},
     "output_type": "execute_result"
    }
   ],
   "source": [
    "train_model(model, x_train_files, x_test_files, y_train, y_test, weights_file='CNN-from-word2vec-Google.weights',\n",
    "            batch_size=batch_size, epochs=num_epochs)"
   ]
  },
  {
   "cell_type": "code",
   "execution_count": 17,
   "metadata": {
    "ExecuteTime": {
     "end_time": "2017-12-13T03:16:40.055013Z",
     "start_time": "2017-12-13T03:16:40.022014Z"
    },
    "collapsed": true
   },
   "outputs": [],
   "source": [
    "def predict_from_text(model, text):\n",
    "    indices = np.array([it.text_indices(word2index, text, words_per_article)])\n",
    "    probs = model.predict(indices)[0]\n",
    "    for i, proba in enumerate(probs):\n",
    "        if proba > 0.2:\n",
    "            print(all_labels[i], proba)"
   ]
  },
  {
   "cell_type": "code",
   "execution_count": 18,
   "metadata": {
    "ExecuteTime": {
     "end_time": "2017-12-13T03:16:43.060791Z",
     "start_time": "2017-12-13T03:16:43.028775Z"
    },
    "collapsed": true
   },
   "outputs": [],
   "source": [
    "cnn_politics = \"Today, Democrats hold just one of the 26 Senate seats in the 13 states that, like Alabama,\\\n",
    "have voted Republican in every presidential election since 1992. Republicans in turn hold just one of the 30 \\\n",
    "Senate seats in the 15 states that voted Democratic in all seven presidential elections since then. That means \\\n",
    "if Jones wins he would be just the third senator from the opposing party to hold one of the 56 Senate seats in\\\n",
    "the 28 states that have voted the same way in each of the past seven presidential elections.\\\n",
    "The consistency between presidential and Senate results is much, much greater than it used to be,\\\n",
    "says Alan Abramowitz, a political scientist at Emory University.\""
   ]
  },
  {
   "cell_type": "code",
   "execution_count": 19,
   "metadata": {
    "ExecuteTime": {
     "end_time": "2017-12-13T03:16:44.300269Z",
     "start_time": "2017-12-13T03:16:44.268530Z"
    }
   },
   "outputs": [
    {
     "name": "stdout",
     "output_type": "stream",
     "text": [
      "POLITICS 0.999566\n"
     ]
    }
   ],
   "source": [
    "predict_from_text(model, cnn_politics)"
   ]
  },
  {
   "cell_type": "code",
   "execution_count": 20,
   "metadata": {
    "ExecuteTime": {
     "end_time": "2017-12-13T03:16:45.541433Z",
     "start_time": "2017-12-13T03:16:45.509280Z"
    },
    "collapsed": true
   },
   "outputs": [],
   "source": [
    "bloomberg = \"House and Senate negotiators are planning to limit the deduction for mortgage interest to\\\n",
    "loans of $750,000 or less, according to Representative Tom MacArthur, a New Jersey Republican. MacArthur\\\n",
    "said the $750,000 limit would be positive for his district compared to the House bill. He added that lawmakers\\\n",
    "are still discussing whether to allow a deduction for state and local income taxes as part of a proposed cap of \\\n",
    "$10,000 for property taxes. He also said he’s pushing to preserve a deduction for large medical expenses that \\\n",
    "the House bill would called for eliminating. Current law limits the mortgage deduction to loans of $1 million\\\n",
    "or less. The tax break is one of the sticking points House and Senate lawmakers have been trying to resolve this\\\n",
    "week. The House bill calls for slashing the deduction cap for new purchases of homes in half -- to loans of \\\n",
    "$500,000 or less. The Senate legislation preserved the current limit.\""
   ]
  },
  {
   "cell_type": "code",
   "execution_count": 21,
   "metadata": {
    "ExecuteTime": {
     "end_time": "2017-12-13T03:16:47.325056Z",
     "start_time": "2017-12-13T03:16:47.293085Z"
    }
   },
   "outputs": [
    {
     "name": "stdout",
     "output_type": "stream",
     "text": [
      "ECONOMICS 0.853295\n",
      "POLITICS 0.533794\n"
     ]
    }
   ],
   "source": [
    "predict_from_text(model, bloomberg)"
   ]
  },
  {
   "cell_type": "code",
   "execution_count": 22,
   "metadata": {
    "ExecuteTime": {
     "end_time": "2017-12-13T03:16:48.212776Z",
     "start_time": "2017-12-13T03:16:48.180900Z"
    },
    "collapsed": true
   },
   "outputs": [],
   "source": [
    "bloomberg2 = \"Despite a recent bounce back, analysts and investors say the greenback could lose more ground\\\n",
    "against the euro and yen as the prospect of strong economic growth and tighter monetary policy outside the \\\n",
    "U.S. more than offsets higher interest rates at home. The dollar is down more than 7 percent versus the world’s\\\n",
    "major currencies this year, the most in over a decade. The economic growth “we’re seeing in Europe, emerging \\\n",
    "markets and the rest of the world will likely cause the dollar to sell off again,” said Erin Browne, the head \\\n",
    "of asset allocation at UBS Asset Management, which oversees about $770 billion. When it comes to what central\\\n",
    "banks in Europe and Japan might do, “there’s very little priced in.”\""
   ]
  },
  {
   "cell_type": "code",
   "execution_count": 23,
   "metadata": {
    "ExecuteTime": {
     "end_time": "2017-12-13T03:16:49.333038Z",
     "start_time": "2017-12-13T03:16:49.300261Z"
    }
   },
   "outputs": [
    {
     "name": "stdout",
     "output_type": "stream",
     "text": [
      "ECONOMICS 0.999756\n"
     ]
    }
   ],
   "source": [
    "predict_from_text(model, bloomberg2)"
   ]
  },
  {
   "cell_type": "code",
   "execution_count": 24,
   "metadata": {
    "ExecuteTime": {
     "end_time": "2017-12-13T03:16:50.510213Z",
     "start_time": "2017-12-13T03:16:50.475979Z"
    },
    "collapsed": true
   },
   "outputs": [],
   "source": [
    "cnn_sports = \"With 14 wins and just one draw so far, Manchester City are on pace to pull off the most dominant\\\n",
    "season in Premier League history -- but can they go undefeated? Since drawing with Everton in their second \\\n",
    "league game of the season, Pep Guardiola's City has won 13-matches in a row while posting a staggering 36 \\\n",
    "goal difference. heir Champions League performances been nearly as impressive, with City winning its first \\\n",
    "five matches and locking up the group before losing to Shakhtar Donetsk earlier this week.\""
   ]
  },
  {
   "cell_type": "code",
   "execution_count": 25,
   "metadata": {
    "ExecuteTime": {
     "end_time": "2017-12-13T03:16:52.075961Z",
     "start_time": "2017-12-13T03:16:52.044106Z"
    }
   },
   "outputs": [
    {
     "name": "stdout",
     "output_type": "stream",
     "text": [
      "SPORTS 0.999999\n"
     ]
    }
   ],
   "source": [
    "predict_from_text(model, cnn_sports)"
   ]
  },
  {
   "cell_type": "code",
   "execution_count": 26,
   "metadata": {
    "ExecuteTime": {
     "end_time": "2017-12-13T03:16:53.052283Z",
     "start_time": "2017-12-13T03:16:53.020070Z"
    },
    "collapsed": true
   },
   "outputs": [],
   "source": [
    "cnn_entertainment = \"Disney's next installment in the \\\"Star Wars\\\" saga has become Fandango's top advance \\\n",
    "ticket-seller of the year, the online ticket site reported on Tuesday. The film, which doesn't officially open \\\n",
    "in North America until Friday with previews beginning Thursday night, toppled another Disney production, \\\n",
    "\\\"Beauty and the Beast,\\\" which came out in March, for the top spot. \\\"The Last Jedi\\\" is the biggest \\\n",
    "ticket pre-seller for Fandango since the series' last film, 2015's \\\"Star Wars: The Force Awakens,\\\" which \\\n",
    "went on to become the biggest opening in film history. \\\"The Last Jedi\\\" debuts in more than 4,100 \\\n",
    "theaters domestically and is on track for an opening weekend in the $200 million range. However, \\\n",
    "some box office analysts are saying the movie has the chance to open even higher. Fandango also put \\\n",
    "together some interesting data on why audiences are looking forward to the film, which stars Mark Hamill\\\n",
    "as Luke Skywalker and Daisy Ridley as Rey.\""
   ]
  },
  {
   "cell_type": "code",
   "execution_count": 27,
   "metadata": {
    "ExecuteTime": {
     "end_time": "2017-12-13T03:16:57.875152Z",
     "start_time": "2017-12-13T03:16:57.841591Z"
    }
   },
   "outputs": [
    {
     "name": "stdout",
     "output_type": "stream",
     "text": [
      "ENTERTAINMENT 0.999691\n"
     ]
    }
   ],
   "source": [
    "predict_from_text(model, cnn_entertainment)"
   ]
  },
  {
   "cell_type": "code",
   "execution_count": 28,
   "metadata": {
    "ExecuteTime": {
     "end_time": "2017-12-13T03:19:15.244857Z",
     "start_time": "2017-12-13T03:19:15.213362Z"
    },
    "collapsed": true
   },
   "outputs": [],
   "source": [
    "cnn_tech = \"The internet company released a trio of free photo apps on Monday. Created as experiments by different \\\n",
    "Google (GOOG) departments, the simple mobile apps include a photo booth with pose-detecting powers, a way\\\n",
    "to remix videos like a DJ, and a tool for turning any mundane adventure into a comic book panel.\\\n",
    "The company is calling the free downloads Appsperiments, a clunky portmanteau of apps and experiments.\\\n",
    "The tools offer a peek into the future of smartphone photography, which will increasingly rely on effects \\\n",
    "created by software. An early example is the Google Pixel 2 portrait mode, which uses software to fake a \\\n",
    "shallow depth-of-field effect. The next generation of cameras will have the capability to blend hardware\\\n",
    "and computer vision algorithms,\\\" said Alex Kauffmann, an interaction researcher at Google Research, in a blog post.\""
   ]
  },
  {
   "cell_type": "code",
   "execution_count": 29,
   "metadata": {
    "ExecuteTime": {
     "end_time": "2017-12-13T03:19:24.484419Z",
     "start_time": "2017-12-13T03:19:24.452495Z"
    }
   },
   "outputs": [
    {
     "name": "stdout",
     "output_type": "stream",
     "text": [
      "ENTERTAINMENT 0.848236\n"
     ]
    }
   ],
   "source": [
    "predict_from_text(model, cnn_tech)"
   ]
  },
  {
   "cell_type": "code",
   "execution_count": null,
   "metadata": {
    "collapsed": true
   },
   "outputs": [],
   "source": []
  }
 ],
 "metadata": {
  "kernelspec": {
   "display_name": "Python 3",
   "language": "python",
   "name": "python3"
  },
  "language_info": {
   "codemirror_mode": {
    "name": "ipython",
    "version": 3
   },
   "file_extension": ".py",
   "mimetype": "text/x-python",
   "name": "python",
   "nbconvert_exporter": "python",
   "pygments_lexer": "ipython3",
   "version": "3.6.3"
  },
  "varInspector": {
   "cols": {
    "lenName": 16,
    "lenType": 16,
    "lenVar": 40
   },
   "kernels_config": {
    "python": {
     "delete_cmd_postfix": "",
     "delete_cmd_prefix": "del ",
     "library": "var_list.py",
     "varRefreshCmd": "print(var_dic_list())"
    },
    "r": {
     "delete_cmd_postfix": ") ",
     "delete_cmd_prefix": "rm(",
     "library": "var_list.r",
     "varRefreshCmd": "cat(var_dic_list()) "
    }
   },
   "types_to_exclude": [
    "module",
    "function",
    "builtin_function_or_method",
    "instance",
    "_Feature"
   ],
   "window_display": false
  }
 },
 "nbformat": 4,
 "nbformat_minor": 2
}
