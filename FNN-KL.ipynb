{
 "cells": [
  {
   "cell_type": "code",
   "execution_count": 1,
   "metadata": {
    "ExecuteTime": {
     "end_time": "2017-12-20T17:25:05.800760Z",
     "start_time": "2017-12-20T17:25:05.454938Z"
    }
   },
   "outputs": [],
   "source": [
    "%load_ext autoreload\n",
    "%autoreload 2\n",
    "%matplotlib inline\n",
    "%config InlineBackend.figure_format='retina'"
   ]
  },
  {
   "cell_type": "code",
   "execution_count": 2,
   "metadata": {
    "ExecuteTime": {
     "end_time": "2017-12-20T17:25:07.496785Z",
     "start_time": "2017-12-20T17:25:05.802400Z"
    }
   },
   "outputs": [
    {
     "name": "stderr",
     "output_type": "stream",
     "text": [
      "Using TensorFlow backend.\n",
      "/usr/local/Cellar/python3/3.6.3/Frameworks/Python.framework/Versions/3.6/lib/python3.6/importlib/_bootstrap.py:219: RuntimeWarning: compiletime version 3.5 of module 'tensorflow.python.framework.fast_tensor_util' does not match runtime version 3.6\n",
      "  return f(*args, **kwds)\n"
     ]
    }
   ],
   "source": [
    "import re\n",
    "import glob\n",
    "import nltk\n",
    "import numpy as np\n",
    "from sklearn.feature_extraction.text import CountVectorizer\n",
    "from nltk.stem.wordnet import WordNetLemmatizer\n",
    "from fit_generator import label_from_id, all_labels\n",
    "from keras.models import Sequential\n",
    "from keras.layers import Dense, Dropout, Activation\n",
    "from keras.preprocessing.text import Tokenizer\n",
    "from keras import optimizers\n",
    "from keras.callbacks import ModelCheckpoint \n",
    "from fnn_helper import PlotLosses\n",
    "from keras import regularizers\n",
    "from sklearn.model_selection import train_test_split\n",
    "import matplotlib.pyplot as plt\n",
    "import scipy\n",
    "import util\n",
    "from sklearn.externals import joblib\n",
    "import iterator_and_text_cleaner as it"
   ]
  },
  {
   "cell_type": "code",
   "execution_count": 3,
   "metadata": {
    "ExecuteTime": {
     "end_time": "2017-12-20T17:25:08.316620Z",
     "start_time": "2017-12-20T17:25:07.498324Z"
    }
   },
   "outputs": [
    {
     "data": {
      "text/plain": [
       "202399"
      ]
     },
     "execution_count": 3,
     "metadata": {},
     "output_type": "execute_result"
    }
   ],
   "source": [
    "source_path = '../converted/'\n",
    "txt_files = glob.glob(source_path + '199*/*')\n",
    "len(txt_files)"
   ]
  },
  {
   "cell_type": "code",
   "execution_count": 4,
   "metadata": {
    "ExecuteTime": {
     "end_time": "2017-12-20T17:25:10.215423Z",
     "start_time": "2017-12-20T17:25:08.318116Z"
    }
   },
   "outputs": [],
   "source": [
    "NUM_CATEGORIES = 5\n",
    "Y = np.empty((len(txt_files), NUM_CATEGORIES))\n",
    "for idx, file in enumerate(txt_files):\n",
    "    Y[idx] = label_from_id(file)\n",
    "    Y[idx] /= Y[idx].sum()\n"
   ]
  },
  {
   "cell_type": "code",
   "execution_count": 5,
   "metadata": {
    "ExecuteTime": {
     "end_time": "2017-12-20T17:25:10.246059Z",
     "start_time": "2017-12-20T17:25:10.216964Z"
    }
   },
   "outputs": [
    {
     "data": {
      "text/plain": [
       "array([[ 0. ,  0. ,  1. ,  0. ,  0. ],\n",
       "       [ 0. ,  0. ,  1. ,  0. ,  0. ],\n",
       "       [ 0.5,  0. ,  0.5,  0. ,  0. ],\n",
       "       [ 1. ,  0. ,  0. ,  0. ,  0. ],\n",
       "       [ 1. ,  0. ,  0. ,  0. ,  0. ],\n",
       "       [ 0. ,  0. ,  0. ,  1. ,  0. ],\n",
       "       [ 1. ,  0. ,  0. ,  0. ,  0. ],\n",
       "       [ 0. ,  0. ,  1. ,  0. ,  0. ],\n",
       "       [ 0. ,  0. ,  0. ,  1. ,  0. ],\n",
       "       [ 1. ,  0. ,  0. ,  0. ,  0. ]])"
      ]
     },
     "execution_count": 5,
     "metadata": {},
     "output_type": "execute_result"
    }
   ],
   "source": [
    "Y[0:10]"
   ]
  },
  {
   "cell_type": "code",
   "execution_count": 6,
   "metadata": {
    "ExecuteTime": {
     "end_time": "2017-12-20T17:25:11.927475Z",
     "start_time": "2017-12-20T17:25:10.247575Z"
    }
   },
   "outputs": [],
   "source": [
    "count_vectorizer_with_stem = joblib.load('count_vectorizer_with_stem.pkl') "
   ]
  },
  {
   "cell_type": "code",
   "execution_count": 7,
   "metadata": {
    "ExecuteTime": {
     "end_time": "2017-12-20T17:25:49.535925Z",
     "start_time": "2017-12-20T17:25:11.931313Z"
    }
   },
   "outputs": [],
   "source": [
    "doc_term = scipy.io.mmread('countvect-articles')\n",
    "(NUM_ARTICLES, NUM_WORDS) = doc_term.shape"
   ]
  },
  {
   "cell_type": "markdown",
   "metadata": {},
   "source": [
    "# CountVectorizer como entrada de la red neuronal\n",
    "\n",
    "Hasta acá tenemos:\n",
    "\n",
    "* doc_term: matriz de (NUM_ARTICLES, NUM_WORDS) con los count de cada word\n",
    "* Y: matriz de (NUM_ARTICLES, NUM_CATEGORIES) con los labels"
   ]
  },
  {
   "cell_type": "code",
   "execution_count": 8,
   "metadata": {
    "ExecuteTime": {
     "end_time": "2017-12-20T17:25:51.371529Z",
     "start_time": "2017-12-20T17:25:49.537540Z"
    }
   },
   "outputs": [
    {
     "name": "stdout",
     "output_type": "stream",
     "text": [
      "(135607, 84168) (135607, 5)\n"
     ]
    }
   ],
   "source": [
    "x_train, x_test, y_train, y_test = train_test_split(doc_term, Y, test_size=0.33)\n",
    "print(x_train.shape, y_train.shape)"
   ]
  },
  {
   "cell_type": "code",
   "execution_count": 9,
   "metadata": {
    "ExecuteTime": {
     "end_time": "2017-12-20T17:25:51.410830Z",
     "start_time": "2017-12-20T17:25:51.373185Z"
    }
   },
   "outputs": [],
   "source": [
    "def build_model(layers, optimizer_method, lr=0.1, decay=0.0, model=None):\n",
    "    if model == None:\n",
    "        model = Sequential()\n",
    "        for layer in layers:\n",
    "            model.add(layer)\n",
    "\n",
    "    optimizer = optimizer_method(lr=lr, decay=decay)\n",
    "    model.compile(loss='kullback_leibler_divergence', optimizer=optimizer, metrics=['accuracy'])\n",
    "    model.summary()\n",
    "    return model"
   ]
  },
  {
   "cell_type": "code",
   "execution_count": 10,
   "metadata": {
    "ExecuteTime": {
     "end_time": "2017-12-20T17:25:51.459806Z",
     "start_time": "2017-12-20T17:25:51.413094Z"
    }
   },
   "outputs": [],
   "source": [
    "def batch_generator(X, y, samples_per_epoch, batch_size):\n",
    "    number_of_batches = samples_per_epoch // batch_size\n",
    "    counter=0\n",
    "    shuffle_index = np.arange(np.shape(y)[0])\n",
    "    np.random.shuffle(shuffle_index)\n",
    "    X =  X[shuffle_index, :]\n",
    "    y =  y[shuffle_index]\n",
    "    while 1:\n",
    "        index_batch = shuffle_index[batch_size*counter:batch_size*(counter+1)]\n",
    "        X_batch = X[index_batch,:].todense()\n",
    "        y_batch = y[index_batch]\n",
    "        counter += 1\n",
    "        yield(np.array(X_batch),y_batch)\n",
    "        if (counter >= number_of_batches):\n",
    "            np.random.shuffle(shuffle_index)\n",
    "            counter=0"
   ]
  },
  {
   "cell_type": "code",
   "execution_count": 11,
   "metadata": {
    "ExecuteTime": {
     "end_time": "2017-12-20T17:25:51.518235Z",
     "start_time": "2017-12-20T17:25:51.461923Z"
    }
   },
   "outputs": [],
   "source": [
    "def train_model(model, x_train, x_test, y_train, y_test, weights_file=None, batch_size=16, epochs=10):\n",
    "    plot_losses = PlotLosses(plot_interval=1, evaluate_interval=None, x_val=x_test, y_val_categorical=y_test)\n",
    "    callbacks = [plot_losses]\n",
    "\n",
    "    if weights_file != None:\n",
    "        checkpointer = ModelCheckpoint(filepath=weights_file, verbose=0, save_best_only=True)\n",
    "        callbacks.append(checkpointer)\n",
    "\n",
    "    steps_per_epoch = x_train.shape[0] // batch_size\n",
    "    print(\"Steps per epoch = \", steps_per_epoch)\n",
    "    generator = batch_generator(x_train, y_train, samples_per_epoch=steps_per_epoch, batch_size=batch_size)\n",
    "    vals_per_epoc = x_test.shape[0] // batch_size\n",
    "    val_generator = batch_generator(x_test, y_test, samples_per_epoch=vals_per_epoc, batch_size=batch_size)\n",
    "    result = model.fit_generator(\n",
    "        generator,\n",
    "        steps_per_epoch=steps_per_epoch,\n",
    "        epochs=epochs,\n",
    "        validation_data=val_generator,\n",
    "        validation_steps=vals_per_epoc,\n",
    "        verbose=1,\n",
    "        callbacks=callbacks,\n",
    "    )\n",
    "    return result"
   ]
  },
  {
   "cell_type": "code",
   "execution_count": 12,
   "metadata": {
    "ExecuteTime": {
     "end_time": "2017-12-20T17:25:51.655874Z",
     "start_time": "2017-12-20T17:25:51.520498Z"
    }
   },
   "outputs": [
    {
     "name": "stdout",
     "output_type": "stream",
     "text": [
      "_________________________________________________________________\n",
      "Layer (type)                 Output Shape              Param #   \n",
      "=================================================================\n",
      "dense_1 (Dense)              (None, 5)                 420845    \n",
      "=================================================================\n",
      "Total params: 420,845\n",
      "Trainable params: 420,845\n",
      "Non-trainable params: 0\n",
      "_________________________________________________________________\n"
     ]
    }
   ],
   "source": [
    "model = build_model(\n",
    "    [\n",
    "        Dense(NUM_CATEGORIES, input_dim=NUM_WORDS, activation='softmax'),\n",
    "    ],\n",
    "    optimizers.SGD,\n",
    "    lr=0.002)"
   ]
  },
  {
   "cell_type": "code",
   "execution_count": 13,
   "metadata": {
    "ExecuteTime": {
     "end_time": "2017-12-20T18:53:50.722693Z",
     "start_time": "2017-12-20T17:25:51.658167Z"
    }
   },
   "outputs": [
    {
     "data": {
      "image/png": "[encoded data removed]",
      "text/plain": [
       "<matplotlib.figure.Figure at 0x11a1404e0>"
      ]
     },
     "metadata": {
      "image/png": {
       "height": 304,
       "width": 1161
      }
     },
     "output_type": "display_data"
    },
    {
     "name": "stdout",
     "output_type": "stream",
     "text": [
      "\b\b\b\b\b\b\b\b\b\b\b\b\b\b\b\b\b\b\b\b\b\b\b\b\b\b\b\b\b\b\b\b\b\b\b\b\b\b\b\b\b\b\b\b\b\b\b\b\b\b\b\b\b\b\b\b\b\b\b\b\b\b\b\b\b\b\b\b\b\b\b\b\b\b\b\b\b\b\b\b\b\r",
      "4237/4237 [==============================] - 88s 21ms/step - loss: 0.1116 - acc: 0.9537 - val_loss: 0.1388 - val_acc: 0.9457\n"
     ]
    },
    {
     "data": {
      "text/plain": [
       "<keras.callbacks.History at 0x116769390>"
      ]
     },
     "execution_count": 13,
     "metadata": {},
     "output_type": "execute_result"
    }
   ],
   "source": [
    "train_model(model, x_train, x_test, y_train, y_test, weights_file='countvect1.weights', batch_size=32, epochs=60)"
   ]
  },
  {
   "cell_type": "code",
   "execution_count": 14,
   "metadata": {
    "ExecuteTime": {
     "end_time": "2017-12-20T18:53:50.834744Z",
     "start_time": "2017-12-20T18:53:50.725237Z"
    }
   },
   "outputs": [],
   "source": [
    "model.load_weights('countvect1.weights')"
   ]
  },
  {
   "cell_type": "code",
   "execution_count": 15,
   "metadata": {
    "ExecuteTime": {
     "end_time": "2017-12-20T18:53:50.868365Z",
     "start_time": "2017-12-20T18:53:50.836710Z"
    }
   },
   "outputs": [],
   "source": [
    "count_vectorizer = CountVectorizer(\n",
    "    input='content',\n",
    "    stop_words='english',\n",
    "    tokenizer=util.tokenize_and_stem,\n",
    "    vocabulary=count_vectorizer_with_stem.vocabulary_\n",
    ")"
   ]
  },
  {
   "cell_type": "code",
   "execution_count": 16,
   "metadata": {
    "ExecuteTime": {
     "end_time": "2017-12-20T18:53:50.904012Z",
     "start_time": "2017-12-20T18:53:50.869911Z"
    }
   },
   "outputs": [],
   "source": [
    "def predict_from_text(model, text):\n",
    "    wordcounts = count_vectorizer.fit_transform([text])\n",
    "    probs = model.predict(wordcounts.todense())\n",
    "    for i, proba in enumerate(probs[0]):\n",
    "        if proba > 0.2:\n",
    "            print(all_labels[i], proba)"
   ]
  },
  {
   "cell_type": "code",
   "execution_count": 17,
   "metadata": {
    "ExecuteTime": {
     "end_time": "2017-12-20T18:53:53.192458Z",
     "start_time": "2017-12-20T18:53:50.905743Z"
    }
   },
   "outputs": [
    {
     "name": "stdout",
     "output_type": "stream",
     "text": [
      "POLITICS 0.960901\n"
     ]
    }
   ],
   "source": [
    "cnn_politics = \"Today, Democrats hold just one of the 26 Senate seats in the 13 states that, like Alabama,\\\n",
    "have voted Republican in every presidential election since 1992. Republicans in turn hold just one of the 30 \\\n",
    "Senate seats in the 15 states that voted Democratic in all seven presidential elections since then. That means \\\n",
    "if Jones wins he would be just the third senator from the opposing party to hold one of the 56 Senate seats in\\\n",
    "the 28 states that have voted the same way in each of the past seven presidential elections.\\\n",
    "The consistency between presidential and Senate results is much, much greater than it used to be,\\\n",
    "says Alan Abramowitz, a political scientist at Emory University.\"\n",
    "\n",
    "predict_from_text(model, cnn_politics)"
   ]
  },
  {
   "cell_type": "code",
   "execution_count": 18,
   "metadata": {
    "ExecuteTime": {
     "end_time": "2017-12-20T18:53:53.277452Z",
     "start_time": "2017-12-20T18:53:53.193882Z"
    }
   },
   "outputs": [
    {
     "name": "stdout",
     "output_type": "stream",
     "text": [
      "ECONOMICS 0.64129\n",
      "POLITICS 0.350667\n"
     ]
    }
   ],
   "source": [
    "bloomberg = \"House and Senate negotiators are planning to limit the deduction for mortgage interest to\\\n",
    "loans of $750,000 or less, according to Representative Tom MacArthur, a New Jersey Republican. MacArthur\\\n",
    "said the $750,000 limit would be positive for his district compared to the House bill. He added that lawmakers\\\n",
    "are still discussing whether to allow a deduction for state and local income taxes as part of a proposed cap of \\\n",
    "$10,000 for property taxes. He also said he’s pushing to preserve a deduction for large medical expenses that \\\n",
    "the House bill would called for eliminating. Current law limits the mortgage deduction to loans of $1 million\\\n",
    "or less. The tax break is one of the sticking points House and Senate lawmakers have been trying to resolve this\\\n",
    "week. The House bill calls for slashing the deduction cap for new purchases of homes in half -- to loans of \\\n",
    "$500,000 or less. The Senate legislation preserved the current limit.\"\n",
    "\n",
    "predict_from_text(model, bloomberg)"
   ]
  },
  {
   "cell_type": "code",
   "execution_count": 19,
   "metadata": {
    "ExecuteTime": {
     "end_time": "2017-12-20T18:53:53.348198Z",
     "start_time": "2017-12-20T18:53:53.279192Z"
    }
   },
   "outputs": [
    {
     "name": "stdout",
     "output_type": "stream",
     "text": [
      "ECONOMICS 0.853077\n"
     ]
    }
   ],
   "source": [
    "bloomberg2 = \"Despite a recent bounce back, analysts and investors say the greenback could lose more ground\\\n",
    "against the euro and yen as the prospect of strong economic growth and tighter monetary policy outside the \\\n",
    "U.S. more than offsets higher interest rates at home. The dollar is down more than 7 percent versus the world’s\\\n",
    "major currencies this year, the most in over a decade. The economic growth “we’re seeing in Europe, emerging \\\n",
    "markets and the rest of the world will likely cause the dollar to sell off again,” said Erin Browne, the head \\\n",
    "of asset allocation at UBS Asset Management, which oversees about $770 billion. When it comes to what central\\\n",
    "banks in Europe and Japan might do, “there’s very little priced in.”\"\n",
    "\n",
    "predict_from_text(model, bloomberg2)"
   ]
  },
  {
   "cell_type": "code",
   "execution_count": 20,
   "metadata": {
    "ExecuteTime": {
     "end_time": "2017-12-20T18:53:53.418989Z",
     "start_time": "2017-12-20T18:53:53.349826Z"
    }
   },
   "outputs": [
    {
     "name": "stdout",
     "output_type": "stream",
     "text": [
      "SPORTS 0.994871\n"
     ]
    }
   ],
   "source": [
    "cnn_sports = \"With 14 wins and just one draw so far, Manchester City are on pace to pull off the most dominant\\\n",
    "season in Premier League history -- but can they go undefeated? Since drawing with Everton in their second \\\n",
    "league game of the season, Pep Guardiola's City has won 13-matches in a row while posting a staggering 36 \\\n",
    "goal difference. heir Champions League performances been nearly as impressive, with City winning its first \\\n",
    "five matches and locking up the group before losing to Shakhtar Donetsk earlier this week.\"\n",
    "\n",
    "predict_from_text(model, cnn_sports)"
   ]
  },
  {
   "cell_type": "code",
   "execution_count": 21,
   "metadata": {
    "ExecuteTime": {
     "end_time": "2017-12-20T18:53:53.495762Z",
     "start_time": "2017-12-20T18:53:53.420685Z"
    }
   },
   "outputs": [
    {
     "name": "stdout",
     "output_type": "stream",
     "text": [
      "ENTERTAINMENT 0.965576\n"
     ]
    }
   ],
   "source": [
    "cnn_entertainment = \"Disney's next installment in the \\\"Star Wars\\\" saga has become Fandango's top advance \\\n",
    "ticket-seller of the year, the online ticket site reported on Tuesday. The film, which doesn't officially open \\\n",
    "in North America until Friday with previews beginning Thursday night, toppled another Disney production, \\\n",
    "\\\"Beauty and the Beast,\\\" which came out in March, for the top spot. \\\"The Last Jedi\\\" is the biggest \\\n",
    "ticket pre-seller for Fandango since the series' last film, 2015's \\\"Star Wars: The Force Awakens,\\\" which \\\n",
    "went on to become the biggest opening in film history. \\\"The Last Jedi\\\" debuts in more than 4,100 \\\n",
    "theaters domestically and is on track for an opening weekend in the $200 million range. However, \\\n",
    "some box office analysts are saying the movie has the chance to open even higher. Fandango also put \\\n",
    "together some interesting data on why audiences are looking forward to the film, which stars Mark Hamill\\\n",
    "as Luke Skywalker and Daisy Ridley as Rey.\"\n",
    "\n",
    "predict_from_text(model, cnn_entertainment)"
   ]
  },
  {
   "cell_type": "code",
   "execution_count": 22,
   "metadata": {
    "ExecuteTime": {
     "end_time": "2017-12-20T18:53:53.570608Z",
     "start_time": "2017-12-20T18:53:53.497851Z"
    }
   },
   "outputs": [
    {
     "name": "stdout",
     "output_type": "stream",
     "text": [
      "TECHNOLOGY 0.510567\n"
     ]
    }
   ],
   "source": [
    "cnn_tech = \"The internet company released a trio of free photo apps on Monday. Created as experiments by different \\\n",
    "Google (GOOG) departments, the simple mobile apps include a photo booth with pose-detecting powers, a way\\\n",
    "to remix videos like a DJ, and a tool for turning any mundane adventure into a comic book panel.\\\n",
    "The company is calling the free downloads Appsperiments, a clunky portmanteau of apps and experiments.\\\n",
    "The tools offer a peek into the future of smartphone photography, which will increasingly rely on effects \\\n",
    "created by software. An early example is the Google Pixel 2 portrait mode, which uses software to fake a \\\n",
    "shallow depth-of-field effect. The next generation of cameras will have the capability to blend hardware\\\n",
    "and computer vision algorithms,\\\" said Alex Kauffmann, an interaction researcher at Google Research, in a blog post.\"\n",
    "\n",
    "predict_from_text(model, cnn_tech)"
   ]
  },
  {
   "cell_type": "markdown",
   "metadata": {},
   "source": [
    "## Análisis de la influencia de las top 100 palabras en cada categoría\n",
    "\n",
    "Se toman los pesos de cada neurona de salida y se los ordena en forma ascendente para saber a qué palabras pertenecen dichos pesos."
   ]
  },
  {
   "cell_type": "code",
   "execution_count": 23,
   "metadata": {
    "ExecuteTime": {
     "end_time": "2017-12-20T18:53:53.605646Z",
     "start_time": "2017-12-20T18:53:53.571952Z"
    }
   },
   "outputs": [],
   "source": [
    "weights, bias = model.get_weights()"
   ]
  },
  {
   "cell_type": "code",
   "execution_count": 24,
   "metadata": {
    "ExecuteTime": {
     "end_time": "2017-12-20T18:53:53.757550Z",
     "start_time": "2017-12-20T18:53:53.607623Z"
    }
   },
   "outputs": [],
   "source": [
    "idx2voc = np.array(count_vectorizer_with_stem.get_feature_names())"
   ]
  },
  {
   "cell_type": "code",
   "execution_count": 25,
   "metadata": {
    "ExecuteTime": {
     "end_time": "2017-12-20T18:53:53.826010Z",
     "start_time": "2017-12-20T18:53:53.759212Z"
    }
   },
   "outputs": [
    {
     "name": "stdout",
     "output_type": "stream",
     "text": [
      "----- ECONOMICS -----\n",
      "['moody' 'newsroom' 'pct' 'mln' 'desk' 'bond' 'obligation' 'coupon' 'trade'\n",
      " 'issuer' 'bln' 'bank' 'strike' 'sanction' 'economic' 'municipal' 'job'\n",
      " 'worker' 'statistic' 'employee' 'percent' 'series' 'cty' 'frankfurt' 'tax'\n",
      " 'economy' 'minister' 'aaa' 'aid' 'finance' 'cost' 'sale' 'true' 'balance'\n",
      " 'reserve' 'dollar' 'date' 'humanitarian' 'rate' 'foreign' 'maturity'\n",
      " 'union' 'refund' 'net' 'indicator' 'yield' 'rise' 'treasury' 'teamster'\n",
      " 'government' 'import' 'rat' 'export' 'inflation' 'loan' 'labour' 'wto'\n",
      " 'texaco' 'price' 'april' 'barney' 'delivery' 'index' 'figure' 'currency'\n",
      " 'feed' 'hoffa' 'budget' 'mfn' 'intervention' 'summit' 'cut' 'amt'\n",
      " 'cooperation' 'roosevelt' 'business' 'monetary' 'clinton' 'manufacture'\n",
      " 'debt' 'billion' 'embargo' 'workforce' 'csd' 'cusip' 'central' 'security'\n",
      " 'employ' 'general' 'visit' 'leader' 'quarter' 'privatisation' 'assistance'\n",
      " 'airline' 'carey' 'mich' 'bundesbank' 'prudential' 'merrill']\n",
      "\n",
      "----- ENTERTAINMENT -----\n",
      "['film' 'art' 'museum' 'television' 'music' 'singer' 'actor' 'culture'\n",
      " 'concert' 'star' 'movie' 'cultural' 'artist' 'award' 'opera' 'jackson'\n",
      " 'paint' 'book' 'studio' 'theatre' 'best' 'cinema' 'festival' 'picture'\n",
      " 'feature' 'hollywood' 'record' 'actress' 'exhibition' 'song' 'die' 'prize'\n",
      " 'writer' 'century' 'release' 'band' 'night' 'medium' 'zoo' 'rock'\n",
      " 'auction' 'london' 'miss' 'warner' 'internet' 'radio' 'production'\n",
      " 'broadcast' 'entertainment' 'musician' 'collection' 'story' 'lottery'\n",
      " 'channel' 'cosby' 'group' 'pop' 'million' 'audience' 'screen' 'treasure'\n",
      " 'perform' 'album' 'play' 'musical' 'organiser' 'character' 'sell'\n",
      " 'carnival' 'fan' 'fela' 'unit' 'pageant' 'news' 'orchestra' 'sculpture'\n",
      " 'magazine' 'novel' 'director' 'dance' 'network' 'famous' 'tour' 'cable'\n",
      " 'variety' 'contest' 'statue' 'english' 'sony' 'rushdie' 'program' 'daily'\n",
      " 'beauty' 'circus' 'telefonica' 'library' 'oscar' 'age' 'old' 'queen']\n",
      "\n",
      "----- POLITICS -----\n",
      "['election' 'minister' 'clinton' 'president' 'gov' 'percent' 'party'\n",
      " 'government' 'bond' 'resign' 'poll' 'vote' 'bank' 'parliament' 'labour'\n",
      " 'asylum' 'prime' 'presidential' 'resignation' 'leader' 'secretary'\n",
      " 'candidate' 'senate' 'interior' 'cabinet' 'house' 'general' 'appoint'\n",
      " 'mayor' 'rebel' 'cut' 'county' 'senator' 'school' 'islamist' 'gmt'\n",
      " 'saddam' 'army' 'seat' 'mobutu' 'security' 'hebron' 'chancellor' 'approve'\n",
      " 'deng' 'state' 'plo' 'tax' 'palestinian' 'office' 'human' 'foreign'\n",
      " 'presidency' 'deputy' 'political' 'peace' 'budget' 'fraud' 'swear' 'job'\n",
      " 'petroleum' 'sentence' 'surgery' 'economic' 'independence' 'justice'\n",
      " 'campaign' 'federal' 'appointment' 'leach' 'serve' 'elect' 'yeltsin'\n",
      " 'corruption' 'broke' 'service' 'prosecutor' 'immigrant' 'billion' 'arafat'\n",
      " 'worker' 'affair' 'parliamentary' 'aide' 'politician' 'wife'\n",
      " 'administration' 'immigration' 'voter' 'nomination' 'democrat'\n",
      " 'aboriginal' 'oil' 'chechen' 'soldier' 'amnesty' 'governor' 'handover'\n",
      " 'jail' 'youth']\n",
      "\n",
      "----- SPORTS -----\n",
      "['soccer' 'result' 'match' 'cup' 'cricket' 'beat' 'game' 'championship'\n",
      " 'league' 'club' 'olympic' 'race' 'tennis' 'division' 'score' 'world'\n",
      " 'saturday' 'rugby' 'season' 'sport' 'olympics' 'team' 'second' 'champion'\n",
      " 'play' 'australia' 'final' 'test' 'player' 'round' 'sunday' 'stand' 'box'\n",
      " 'england' 'tournament' 'tour' 'graf' 'coach' 'football' 'title' 'grand'\n",
      " 'scorer' 'inning' 'lead' 'south' 'sydney' 'wicket' 'horse' 'athletics'\n",
      " 'golf' 'halftime' 'open' 'ski' 'stadium' 'federation' 'prix' 'atlanta'\n",
      " 'germany' 'india' 'minute' 'injury' 'international' 'fight' 'tyson' 'goal'\n",
      " 'basketball' 'baseball' 'summary' 'metre' 'win' 'spain' 'winner' 'day'\n",
      " 'bowl' 'formula' 'english' 'athlete' 'stage' 'striker' 'indie'\n",
      " 'attendance' 'sweden' 'norman' 'michael' 'point' 'run' 'ioc' 'nba' 'cycle'\n",
      " 'sign' 'bid' 'west' 'event' 'africa' 'hockey' 'lanka' 'manager' 'draw'\n",
      " 'course' 'penalty']\n",
      "\n",
      "----- TECHNOLOGY -----\n",
      "['scientist' 'space' 'research' 'researcher' 'launch' 'university'\n",
      " 'science' 'study' 'mir' 'use' 'human' 'satellite' 'technology' 'develop'\n",
      " 'scientific' 'earth' 'shuttle' 'internet' 'mission' 'computer' 'station'\n",
      " 'journal' 'cause' 'nasa' 'clone' 'cancer' 'patient' 'rocket' 'disease'\n",
      " 'produce' 'engineer' 'solar' 'colleague' 'institute' 'expert' 'test'\n",
      " 'online' 'vehicle' 'help' 'site' 'experiment' 'animal' 'telescope' 'mile'\n",
      " 'project' 'russian' 'genetic' 'genetically' 'control' 'crew' 'probe'\n",
      " 'cell' 'power' 'biotechnology' 'like' 'write' 'effect' 'contain' 'long'\n",
      " 'module' 'large' 'car' 'electric' 'orbit' 'discover' 'discovery'\n",
      " 'information' 'baby' 'astronaut' 'weather' 'chess' 'say' 'carry' 'centre'\n",
      " 'modify' 'problem' 'industry' 'astronomer' 'age' 'blue' 'cosmonaut'\n",
      " 'virus' 'web' 'communication' 'blood' 'chemical' 'crop' 'heart' 'know'\n",
      " 'risk' 'food' 'medicine' 'patent' 'gene' 'design' 'deep' 'laboratory'\n",
      " 'small' 'look' 'global']\n",
      "\n"
     ]
    }
   ],
   "source": [
    "for label_idx, label in enumerate(all_labels):\n",
    "    print('-----', label, '-----')\n",
    "    sorted_weights = np.argsort(weights[:,label_idx])[::-1][0:100]\n",
    "    print(idx2voc[sorted_weights])\n",
    "    print()"
   ]
  },
  {
   "cell_type": "markdown",
   "metadata": {},
   "source": [
    "**NOTA**: Se nota que en tecnología en realidad se están categorizando artítulos que perteneces más bien a ciencia y no tanto a tecnología, y dado que son artículos de 1996/1197, no hay palabras *modernas* tales como Apple, Google, etc."
   ]
  },
  {
   "cell_type": "markdown",
   "metadata": {},
   "source": [
    "## Análisis de predicciones exactas\n",
    "\n",
    "La idea es utilizar el test set para ver cuánta predicciones dan como resultado exacto, es decir, coinciden los 5 valores de las categorías."
   ]
  },
  {
   "cell_type": "code",
   "execution_count": 26,
   "metadata": {
    "ExecuteTime": {
     "end_time": "2017-12-20T18:55:16.367771Z",
     "start_time": "2017-12-20T18:53:53.827789Z"
    }
   },
   "outputs": [],
   "source": [
    "predictions = model.predict(x_test.todense())"
   ]
  },
  {
   "cell_type": "code",
   "execution_count": 27,
   "metadata": {
    "ExecuteTime": {
     "end_time": "2017-12-20T18:55:16.439995Z",
     "start_time": "2017-12-20T18:55:16.372905Z"
    }
   },
   "outputs": [
    {
     "data": {
      "text/plain": [
       "(66792, 5)"
      ]
     },
     "execution_count": 27,
     "metadata": {},
     "output_type": "execute_result"
    }
   ],
   "source": [
    "predictions.shape"
   ]
  },
  {
   "cell_type": "code",
   "execution_count": 28,
   "metadata": {
    "ExecuteTime": {
     "end_time": "2017-12-20T18:55:16.906753Z",
     "start_time": "2017-12-20T18:55:16.441879Z"
    }
   },
   "outputs": [
    {
     "data": {
      "text/plain": [
       "60197"
      ]
     },
     "execution_count": 28,
     "metadata": {},
     "output_type": "execute_result"
    }
   ],
   "source": [
    "prefect_predictions = 0\n",
    "for idx, pred in enumerate(predictions):\n",
    "    if ((pred > .5) == (y_test[idx] > .5)).sum() == NUM_CATEGORIES:\n",
    "        prefect_predictions += 1\n",
    "prefect_predictions    "
   ]
  },
  {
   "cell_type": "code",
   "execution_count": 29,
   "metadata": {
    "ExecuteTime": {
     "end_time": "2017-12-20T18:55:16.943769Z",
     "start_time": "2017-12-20T18:55:16.909392Z"
    }
   },
   "outputs": [
    {
     "data": {
      "text/plain": [
       "0.9012606300155708"
      ]
     },
     "execution_count": 29,
     "metadata": {},
     "output_type": "execute_result"
    }
   ],
   "source": [
    "prefect_predictions / predictions.shape[0]"
   ]
  },
  {
   "cell_type": "code",
   "execution_count": 30,
   "metadata": {
    "ExecuteTime": {
     "end_time": "2017-12-20T18:55:17.392244Z",
     "start_time": "2017-12-20T18:55:16.946010Z"
    }
   },
   "outputs": [],
   "source": [
    "total_loss = 0\n",
    "for idx, pred in enumerate(predictions):\n",
    "    total_loss += np.logical_xor(pred> .5, y_test[idx] > .5).sum()"
   ]
  },
  {
   "cell_type": "code",
   "execution_count": 31,
   "metadata": {
    "ExecuteTime": {
     "end_time": "2017-12-20T18:55:17.426938Z",
     "start_time": "2017-12-20T18:55:17.394006Z"
    }
   },
   "outputs": [
    {
     "data": {
      "text/plain": [
       "0.024973050664750269"
      ]
     },
     "execution_count": 31,
     "metadata": {},
     "output_type": "execute_result"
    }
   ],
   "source": [
    "total_loss / predictions.shape[0] / NUM_CATEGORIES"
   ]
  },
  {
   "cell_type": "markdown",
   "metadata": {},
   "source": [
    "## Otra forma de calcular la exactitud teniendo en cuenta aciertos parciales"
   ]
  },
  {
   "cell_type": "code",
   "execution_count": 32,
   "metadata": {
    "ExecuteTime": {
     "end_time": "2017-12-20T19:12:04.928378Z",
     "start_time": "2017-12-20T19:12:04.419254Z"
    }
   },
   "outputs": [
    {
     "data": {
      "text/plain": [
       "0.93327544216872282"
      ]
     },
     "execution_count": 32,
     "metadata": {},
     "output_type": "execute_result"
    }
   ],
   "source": [
    "pred_sum = 0\n",
    "for idx, pred in enumerate(predictions):\n",
    "    r = ((pred > .5) * y_test[idx]).sum() / y_test[idx].sum()\n",
    "    pred_sum += r\n",
    "pred_sum / predictions.shape[0]"
   ]
  },
  {
   "cell_type": "code",
   "execution_count": null,
   "metadata": {},
   "outputs": [],
   "source": []
  }
 ],
 "metadata": {
  "kernelspec": {
   "display_name": "Python 3",
   "language": "python",
   "name": "python3"
  },
  "language_info": {
   "codemirror_mode": {
    "name": "ipython",
    "version": 3
   },
   "file_extension": ".py",
   "mimetype": "text/x-python",
   "name": "python",
   "nbconvert_exporter": "python",
   "pygments_lexer": "ipython3",
   "version": "3.6.3"
  },
  "varInspector": {
   "cols": {
    "lenName": 16,
    "lenType": 16,
    "lenVar": 40
   },
   "kernels_config": {
    "python": {
     "delete_cmd_postfix": "",
     "delete_cmd_prefix": "del ",
     "library": "var_list.py",
     "varRefreshCmd": "print(var_dic_list())"
    },
    "r": {
     "delete_cmd_postfix": ") ",
     "delete_cmd_prefix": "rm(",
     "library": "var_list.r",
     "varRefreshCmd": "cat(var_dic_list()) "
    }
   },
   "types_to_exclude": [
    "module",
    "function",
    "builtin_function_or_method",
    "instance",
    "_Feature"
   ],
   "window_display": false
  }
 },
 "nbformat": 4,
 "nbformat_minor": 2
}
