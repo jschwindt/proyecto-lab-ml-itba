{
 "cells": [
  {
   "cell_type": "code",
   "execution_count": 1,
   "metadata": {
    "ExecuteTime": {
     "end_time": "2017-12-18T16:57:44.090186Z",
     "start_time": "2017-12-18T16:57:43.599130Z"
    }
   },
   "outputs": [],
   "source": [
    "%load_ext autoreload\n",
    "%autoreload 2\n",
    "%matplotlib inline\n",
    "%config InlineBackend.figure_format='retina'"
   ]
  },
  {
   "cell_type": "code",
   "execution_count": 2,
   "metadata": {
    "ExecuteTime": {
     "end_time": "2017-12-18T16:57:44.112148Z",
     "start_time": "2017-12-18T16:57:44.093300Z"
    }
   },
   "outputs": [],
   "source": [
    "import os\n",
    "import re\n",
    "import glob\n",
    "import shutil\n",
    "import xml.etree.ElementTree as ET"
   ]
  },
  {
   "cell_type": "code",
   "execution_count": 3,
   "metadata": {
    "ExecuteTime": {
     "end_time": "2017-12-18T16:57:44.126542Z",
     "start_time": "2017-12-18T16:57:44.113807Z"
    }
   },
   "outputs": [],
   "source": [
    "RCV1_root = '../rcv1/'\n",
    "output_folder = '../converted/'"
   ]
  },
  {
   "cell_type": "code",
   "execution_count": 4,
   "metadata": {
    "ExecuteTime": {
     "end_time": "2017-12-18T16:57:44.293751Z",
     "start_time": "2017-12-18T16:57:44.128358Z"
    }
   },
   "outputs": [],
   "source": [
    "categories = {\n",
    "  '1POL':  'CURRENT NEWS - POLITICS',\n",
    "  '2ECO':  'CURRENT NEWS - ECONOMICS',\n",
    "  '3SPO':  'CURRENT NEWS - SPORT',\n",
    "  '4GEN':  'CURRENT NEWS - GENERAL',\n",
    "  '6INS':  'CURRENT NEWS - INSURANCE',\n",
    "  '7RSK':  'CURRENT NEWS - RISK NEWS',\n",
    "  '8YDB':  'TEMPORARY',\n",
    "  '9BNX':  'TEMPORARY',\n",
    "  'ADS10': 'CURRENT NEWS - ADVERTISING',\n",
    "  'BNW14': 'CURRENT NEWS - BUSINESS NEWS',\n",
    "  'BRP11': 'CURRENT NEWS - BRANDS',\n",
    "  'C11':   'STRATEGY/PLANS',\n",
    "  'C12':   'LEGAL/JUDICIAL',\n",
    "  'C13':   'REGULATION/POLICY',\n",
    "  'C14':   'SHARE LISTINGS',\n",
    "  'C15':   'PERFORMANCE',\n",
    "  'C151':  'ACCOUNTS/EARNINGS',\n",
    "  'C1511': 'ANNUAL RESULTS',\n",
    "  'C152':  'COMMENT/FORECASTS',\n",
    "  'C16':   'INSOLVENCY/LIQUIDITY',\n",
    "  'C17':   'FUNDING/CAPITAL',\n",
    "  'C171':  'SHARE CAPITAL',\n",
    "  'C172':  'BONDS/DEBT ISSUES',\n",
    "  'C173':  'LOANS/CREDITS',\n",
    "  'C174':  'CREDIT RATINGS',\n",
    "  'C18':   'OWNERSHIP CHANGES',\n",
    "  'C181':  'MERGERS/ACQUISITIONS',\n",
    "  'C182':  'ASSET TRANSFERS',\n",
    "  'C183':  'PRIVATISATIONS',\n",
    "  'C21':   'PRODUCTION/SERVICES',\n",
    "  'C22':   'NEW PRODUCTS/SERVICES',\n",
    "  'C23':   'RESEARCH/DEVELOPMENT',\n",
    "  'C24':   'CAPACITY/FACILITIES',\n",
    "  'C31':   'MARKETS/MARKETING',\n",
    "  'C311':  'DOMESTIC MARKETS',\n",
    "  'C312':  'EXTERNAL MARKETS',\n",
    "  'C313':  'MARKET SHARE',\n",
    "  'C32':   'ADVERTISING/PROMOTION',\n",
    "  'C33':   'CONTRACTS/ORDERS',\n",
    "  'C331':  'DEFENCE CONTRACTS',\n",
    "  'C34':   'MONOPOLIES/COMPETITION',\n",
    "  'C41':   'MANAGEMENT',\n",
    "  'C411':  'MANAGEMENT MOVES',\n",
    "  'C42':   'LABOUR',\n",
    "  'CCAT':  'CORPORATE/INDUSTRIAL',\n",
    "  'E11':   'ECONOMIC PERFORMANCE',\n",
    "  'E12':   'MONETARY/ECONOMIC',\n",
    "  'E121':  'MONEY SUPPLY',\n",
    "  'E13':   'INFLATION/PRICES',\n",
    "  'E131':  'CONSUMER PRICES',\n",
    "  'E132':  'WHOLESALE PRICES',\n",
    "  'E14':   'CONSUMER FINANCE',\n",
    "  'E141':  'PERSONAL INCOME',\n",
    "  'E142':  'CONSUMER CREDIT',\n",
    "  'E143':  'RETAIL SALES',\n",
    "  'E21':   'GOVERNMENT FINANCE',\n",
    "  'E211':  'EXPENDITURE/REVENUE',\n",
    "  'E212':  'GOVERNMENT BORROWING',\n",
    "  'E31':   'OUTPUT/CAPACITY',\n",
    "  'E311':  'INDUSTRIAL PRODUCTION',\n",
    "  'E312':  'CAPACITY UTILIZATION',\n",
    "  'E313':  'INVENTORIES',\n",
    "  'E41':   'EMPLOYMENT/LABOUR',\n",
    "  'E411':  'UNEMPLOYMENT',\n",
    "  'E51':   'TRADE/RESERVES',\n",
    "  'E511':  'BALANCE OF PAYMENTS',\n",
    "  'E512':  'MERCHANDISE TRADE',\n",
    "  'E513':  'RESERVES',\n",
    "  'E61':   'HOUSING STARTS',\n",
    "  'E71':   'LEADING INDICATORS',\n",
    "  'ECAT':  'ECONOMICS',\n",
    "  'ENT12': 'CURRENT NEWS - ENTERTAINMENT',\n",
    "  'G11':   'SOCIAL AFFAIRS',\n",
    "  'G111':  'HEALTH/SAFETY',\n",
    "  'G112':  'SOCIAL SECURITY',\n",
    "  'G113':  'EDUCATION/RESEARCH',\n",
    "  'G12':   'INTERNAL POLITICS',\n",
    "  'G13':   'INTERNATIONAL RELATIONS',\n",
    "  'G131':  'DEFENCE',\n",
    "  'G14':   'ENVIRONMENT',\n",
    "  'G15':   'EUROPEAN COMMUNITY',\n",
    "  'G151':  'EC INTERNAL MARKET',\n",
    "  'G152':  'EC CORPORATE POLICY',\n",
    "  'G153':  'EC AGRICULTURE POLICY',\n",
    "  'G154':  'EC MONETARY/ECONOMIC',\n",
    "  'G155':  'EC INSTITUTIONS',\n",
    "  'G156':  'EC ENVIRONMENT ISSUES',\n",
    "  'G157':  'EC COMPETITION/SUBSIDY',\n",
    "  'G158':  'EC EXTERNAL RELATIONS',\n",
    "  'G159':  'EC GENERAL',\n",
    "  'GCAT':  'GOVERNMENT/SOCIAL',\n",
    "  'GCRIM': 'CRIME, LAW ENFORCEMENT',\n",
    "  'GDEF':  'DEFENCE',\n",
    "  'GDIP':  'INTERNATIONAL RELATIONS',\n",
    "  'GDIS':  'DISASTERS AND ACCIDENTS',\n",
    "  'GEDU':  'EDUCATION',\n",
    "  'GENT':  'ARTS, CULTURE, ENTERTAINMENT',\n",
    "  'GENV':  'ENVIRONMENT AND NATURAL WORLD',\n",
    "  'GFAS':  'FASHION',\n",
    "  'GHEA':  'HEALTH',\n",
    "  'GJOB':  'LABOUR ISSUES',\n",
    "  'GMIL':  'MILLENNIUM ISSUES',\n",
    "  'GOBIT': 'OBITUARIES',\n",
    "  'GODD':  'HUMAN INTEREST',\n",
    "  'GPOL':  'DOMESTIC POLITICS',\n",
    "  'GPRO':  'BIOGRAPHIES, PERSONALITIES, PEOPLE',\n",
    "  'GREL':  'RELIGION',\n",
    "  'GSCI':  'SCIENCE AND TECHNOLOGY',\n",
    "  'GSPO':  'SPORTS',\n",
    "  'GTOUR': 'TRAVEL AND TOURISM',\n",
    "  'GVIO':  'WAR, CIVIL WAR',\n",
    "  'GVOTE': 'ELECTIONS',\n",
    "  'GWEA':  'WEATHER',\n",
    "  'GWELF': 'WELFARE, SOCIAL SERVICES',\n",
    "  'M11':   'EQUITY MARKETS',\n",
    "  'M12':   'BOND MARKETS',\n",
    "  'M13':   'MONEY MARKETS',\n",
    "  'M131':  'INTERBANK MARKETS',\n",
    "  'M132':  'FOREX MARKETS',\n",
    "  'M14':   'COMMODITY MARKETS',\n",
    "  'M141':  'SOFT COMMODITIES',\n",
    "  'M142':  'METALS TRADING',\n",
    "  'M143':  'ENERGY MARKETS',\n",
    "  'MCAT':  'MARKETS',\n",
    "  'MEUR':  'EURO CURRENCY',\n",
    "  'PRB13': 'CURRENT NEWS - PRESS RELEASE WIRES',\n",
    "}\n",
    "\n",
    "valid_categories = {\n",
    "  '1POL':  'POLITICS',\n",
    "  '2ECO':  'ECONOMICS',\n",
    "  '3SPO':  'SPORTS',\n",
    "  'ECAT':  'ECONOMICS',\n",
    "  'ENT12': 'ENTERTAINMENT',\n",
    "  'G12':   'POLITICS',\n",
    "  'GENT':  'ENTERTAINMENT',\n",
    "  'GPOL':  'POLITICS',\n",
    "  'GSCI':  'TECHNOLOGY',\n",
    "  'GSPO':  'SPORTS',\n",
    "}"
   ]
  },
  {
   "cell_type": "code",
   "execution_count": 5,
   "metadata": {
    "ExecuteTime": {
     "end_time": "2017-12-18T16:57:44.320919Z",
     "start_time": "2017-12-18T16:57:44.295619Z"
    }
   },
   "outputs": [],
   "source": [
    "def reuter_rcv1_parse(filename):\n",
    "    \"\"\" Read article in XML format and returns a dictionary with\n",
    "        'title' (String)\n",
    "        'body'  (String)\n",
    "        'categories' (Array)\n",
    "    \"\"\"\n",
    "    result = {}\n",
    "    xml = ET.parse(filename)\n",
    "    root = xml.getroot()\n",
    "    result['headline'] = root.find('headline').text\n",
    "    result['body'] = ''\n",
    "    for paragraph in root.find('text'):\n",
    "        result['body'] += paragraph.text\n",
    "    result['categories'] = []\n",
    "    for meta in root.find('metadata'):\n",
    "        if meta.tag == 'codes' and meta.attrib.get('class') == 'bip:topics:1.0':\n",
    "            for code in meta.findall('code'):\n",
    "                result['categories'].append(code.attrib['code'])\n",
    "        \n",
    "    return result"
   ]
  },
  {
   "cell_type": "code",
   "execution_count": 6,
   "metadata": {
    "ExecuteTime": {
     "end_time": "2017-12-18T16:57:44.337358Z",
     "start_time": "2017-12-18T16:57:44.322615Z"
    }
   },
   "outputs": [],
   "source": [
    "def valid_cats(cats):\n",
    "    retval = []\n",
    "    for cat in cats:\n",
    "        if cat in valid_categories:\n",
    "            retval.append(valid_categories[cat])\n",
    "    return retval\n",
    "    "
   ]
  },
  {
   "cell_type": "code",
   "execution_count": 9,
   "metadata": {
    "ExecuteTime": {
     "end_time": "2017-12-18T17:01:24.655291Z",
     "start_time": "2017-12-18T17:01:24.630216Z"
    }
   },
   "outputs": [],
   "source": [
    "def generate_txt_from_xmls(xmlfiles):\n",
    "    \"\"\" Parse *.xml files and for each one generates a TXT file which name is:\n",
    "          {folder}/{news_id}-{categ1_[categ_n]}\n",
    "    \"\"\"\n",
    "    for xmlfile in xmlfiles:\n",
    "        result = reuter_rcv1_parse(xmlfile)\n",
    "        cats = valid_cats(result['categories'])\n",
    "        if len(cats):\n",
    "            folder, output_name = re.search(r'rcv1/(\\d+/)(\\d+)\\D', xmlfile).group(1, 2)\n",
    "            os.makedirs(output_folder + folder , exist_ok=True)\n",
    "            txt_filename = output_folder + folder + output_name + '-' + '_'.join(set(cats))\n",
    "            with open(txt_filename, 'w') as f:\n",
    "                if result['headline']:\n",
    "                    f.write(result['headline'] + \"\\n\")\n",
    "                if result['body']:\n",
    "                    f.write(result['body'])\n",
    "            "
   ]
  },
  {
   "cell_type": "code",
   "execution_count": 13,
   "metadata": {
    "ExecuteTime": {
     "end_time": "2017-12-18T17:10:16.975449Z",
     "start_time": "2017-12-18T17:10:09.894218Z"
    }
   },
   "outputs": [],
   "source": [
    "xml_files = glob.glob(RCV1_root + '199*/*.xml')"
   ]
  },
  {
   "cell_type": "code",
   "execution_count": 10,
   "metadata": {
    "ExecuteTime": {
     "end_time": "2017-12-18T17:09:05.218884Z",
     "start_time": "2017-12-18T17:01:25.524626Z"
    }
   },
   "outputs": [],
   "source": [
    "shutil.rmtree(output_folder, ignore_errors=True)\n",
    "os.mkdir(output_folder)\n",
    "generate_txt_from_xmls(xml_files)"
   ]
  },
  {
   "cell_type": "code",
   "execution_count": 11,
   "metadata": {
    "ExecuteTime": {
     "end_time": "2017-12-18T17:09:19.124115Z",
     "start_time": "2017-12-18T17:09:18.047732Z"
    }
   },
   "outputs": [],
   "source": [
    "categ_count = {}\n",
    "for file in glob.glob(output_folder + '**/*'):\n",
    "    categs = file.split('-')[-1].split('_')\n",
    "    for categ in categs:\n",
    "        categ_count.setdefault(categ, 0)\n",
    "        categ_count[categ] += 1\n"
   ]
  },
  {
   "cell_type": "code",
   "execution_count": 15,
   "metadata": {
    "ExecuteTime": {
     "end_time": "2017-12-18T17:10:55.298499Z",
     "start_time": "2017-12-18T17:10:55.283877Z"
    }
   },
   "outputs": [
    {
     "data": {
      "text/plain": [
       "{'ECONOMICS': 117539,\n",
       " 'ENTERTAINMENT': 3801,\n",
       " 'POLITICS': 56878,\n",
       " 'SPORTS': 35317,\n",
       " 'TECHNOLOGY': 2410}"
      ]
     },
     "execution_count": 15,
     "metadata": {},
     "output_type": "execute_result"
    }
   ],
   "source": [
    "categ_count"
   ]
  },
  {
   "cell_type": "code",
   "execution_count": null,
   "metadata": {},
   "outputs": [],
   "source": []
  }
 ],
 "metadata": {
  "kernelspec": {
   "display_name": "Python 3",
   "language": "python",
   "name": "python3"
  },
  "language_info": {
   "codemirror_mode": {
    "name": "ipython",
    "version": 3
   },
   "file_extension": ".py",
   "mimetype": "text/x-python",
   "name": "python",
   "nbconvert_exporter": "python",
   "pygments_lexer": "ipython3",
   "version": "3.6.3"
  },
  "varInspector": {
   "cols": {
    "lenName": 16,
    "lenType": 16,
    "lenVar": 40
   },
   "kernels_config": {
    "python": {
     "delete_cmd_postfix": "",
     "delete_cmd_prefix": "del ",
     "library": "var_list.py",
     "varRefreshCmd": "print(var_dic_list())"
    },
    "r": {
     "delete_cmd_postfix": ") ",
     "delete_cmd_prefix": "rm(",
     "library": "var_list.r",
     "varRefreshCmd": "cat(var_dic_list()) "
    }
   },
   "types_to_exclude": [
    "module",
    "function",
    "builtin_function_or_method",
    "instance",
    "_Feature"
   ],
   "window_display": false
  }
 },
 "nbformat": 4,
 "nbformat_minor": 2
}
