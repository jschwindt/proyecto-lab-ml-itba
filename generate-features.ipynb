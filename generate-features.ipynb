{
 "cells": [
  {
   "cell_type": "code",
   "execution_count": 79,
   "metadata": {
    "ExecuteTime": {
     "end_time": "2017-12-04T19:12:11.319800Z",
     "start_time": "2017-12-04T19:12:11.285212Z"
    }
   },
   "outputs": [
    {
     "name": "stdout",
     "output_type": "stream",
     "text": [
      "The autoreload extension is already loaded. To reload it, use:\n",
      "  %reload_ext autoreload\n"
     ]
    }
   ],
   "source": [
    "%load_ext autoreload\n",
    "%autoreload 2\n",
    "%matplotlib inline\n",
    "%config InlineBackend.figure_format='retina'"
   ]
  },
  {
   "cell_type": "code",
   "execution_count": 91,
   "metadata": {
    "ExecuteTime": {
     "end_time": "2017-12-04T19:38:25.036940Z",
     "start_time": "2017-12-04T19:38:25.012057Z"
    },
    "collapsed": true
   },
   "outputs": [],
   "source": [
    "import gensim\n",
    "from gensim.models import word2vec\n",
    "import logging\n",
    "import iterator_and_text_cleaner as it\n",
    "import numpy as np\n",
    "import os\n",
    "import shutil"
   ]
  },
  {
   "cell_type": "code",
   "execution_count": 92,
   "metadata": {
    "ExecuteTime": {
     "end_time": "2017-12-04T19:38:27.621195Z",
     "start_time": "2017-12-04T19:38:27.597006Z"
    },
    "collapsed": true
   },
   "outputs": [],
   "source": [
    "input_folder = '../converted/'\n",
    "output_folder = '../features/'\n",
    "words_per_article = 300\n",
    "vector_size = 100"
   ]
  },
  {
   "cell_type": "code",
   "execution_count": 93,
   "metadata": {
    "ExecuteTime": {
     "end_time": "2017-12-04T19:38:28.982598Z",
     "start_time": "2017-12-04T19:38:28.759303Z"
    },
    "collapsed": true
   },
   "outputs": [],
   "source": [
    "model = word2vec.Word2Vec.load('word2vec.model')"
   ]
  },
  {
   "cell_type": "code",
   "execution_count": 94,
   "metadata": {
    "ExecuteTime": {
     "end_time": "2017-12-04T19:38:29.327152Z",
     "start_time": "2017-12-04T19:38:29.298326Z"
    }
   },
   "outputs": [],
   "source": [
    "def save_article_matrix(filename, words):\n",
    "    article_matrix = np.zeros((words_per_article, vector_size))\n",
    "    row = 0\n",
    "    for word in words:\n",
    "        if word in model.wv:\n",
    "            article_matrix[row] = model.wv[word]\n",
    "        row += 1\n",
    "        if row == words_per_article:\n",
    "            break\n",
    "    np.save(output_folder + filename + '.npy', article_matrix)"
   ]
  },
  {
   "cell_type": "code",
   "execution_count": 95,
   "metadata": {
    "ExecuteTime": {
     "end_time": "2017-12-04T19:38:30.833961Z",
     "start_time": "2017-12-04T19:38:30.810058Z"
    }
   },
   "outputs": [],
   "source": [
    "shutil.rmtree(output_folder, ignore_errors=True)\n",
    "os.mkdir(output_folder)"
   ]
  },
  {
   "cell_type": "code",
   "execution_count": 96,
   "metadata": {
    "ExecuteTime": {
     "end_time": "2017-12-04T19:39:13.177997Z",
     "start_time": "2017-12-04T19:38:41.948631Z"
    }
   },
   "outputs": [],
   "source": [
    "sentences_iterator = it.FileWordsIterator(input_folder)\n",
    "\n",
    "for filename, words in sentences_iterator:\n",
    "    save_article_matrix(filename, words)"
   ]
  },
  {
   "cell_type": "code",
   "execution_count": null,
   "metadata": {
    "collapsed": true
   },
   "outputs": [],
   "source": []
  }
 ],
 "metadata": {
  "kernelspec": {
   "display_name": "Python 3",
   "language": "python",
   "name": "python3"
  },
  "language_info": {
   "codemirror_mode": {
    "name": "ipython",
    "version": 3
   },
   "file_extension": ".py",
   "mimetype": "text/x-python",
   "name": "python",
   "nbconvert_exporter": "python",
   "pygments_lexer": "ipython3",
   "version": "3.6.3"
  },
  "varInspector": {
   "cols": {
    "lenName": 16,
    "lenType": 16,
    "lenVar": 40
   },
   "kernels_config": {
    "python": {
     "delete_cmd_postfix": "",
     "delete_cmd_prefix": "del ",
     "library": "var_list.py",
     "varRefreshCmd": "print(var_dic_list())"
    },
    "r": {
     "delete_cmd_postfix": ") ",
     "delete_cmd_prefix": "rm(",
     "library": "var_list.r",
     "varRefreshCmd": "cat(var_dic_list()) "
    }
   },
   "types_to_exclude": [
    "module",
    "function",
    "builtin_function_or_method",
    "instance",
    "_Feature"
   ],
   "window_display": false
  }
 },
 "nbformat": 4,
 "nbformat_minor": 2
}
