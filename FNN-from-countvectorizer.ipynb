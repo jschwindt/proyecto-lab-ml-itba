{
 "cells": [
  {
   "cell_type": "code",
   "execution_count": 1,
   "metadata": {
    "ExecuteTime": {
     "end_time": "2017-12-20T15:24:49.173680Z",
     "start_time": "2017-12-20T15:24:48.658998Z"
    }
   },
   "outputs": [],
   "source": [
    "%load_ext autoreload\n",
    "%autoreload 2\n",
    "%matplotlib inline\n",
    "%config InlineBackend.figure_format='retina'"
   ]
  },
  {
   "cell_type": "code",
   "execution_count": 2,
   "metadata": {
    "ExecuteTime": {
     "end_time": "2017-12-20T15:24:52.893056Z",
     "start_time": "2017-12-20T15:24:49.777035Z"
    }
   },
   "outputs": [
    {
     "name": "stderr",
     "output_type": "stream",
     "text": [
      "Using TensorFlow backend.\n",
      "/usr/local/Cellar/python3/3.6.3/Frameworks/Python.framework/Versions/3.6/lib/python3.6/importlib/_bootstrap.py:219: RuntimeWarning: compiletime version 3.5 of module 'tensorflow.python.framework.fast_tensor_util' does not match runtime version 3.6\n",
      "  return f(*args, **kwds)\n"
     ]
    }
   ],
   "source": [
    "import re\n",
    "import glob\n",
    "import nltk\n",
    "import numpy as np\n",
    "from sklearn.feature_extraction.text import CountVectorizer\n",
    "from nltk.stem.wordnet import WordNetLemmatizer\n",
    "from fit_generator import label_from_id, all_labels\n",
    "from keras.models import Sequential\n",
    "from keras.layers import Dense, Dropout, Activation\n",
    "from keras.preprocessing.text import Tokenizer\n",
    "from keras import optimizers\n",
    "from keras.callbacks import ModelCheckpoint \n",
    "from fnn_helper import PlotLosses\n",
    "from keras import regularizers\n",
    "from sklearn.model_selection import train_test_split\n",
    "import matplotlib.pyplot as plt\n",
    "import scipy\n",
    "import util\n",
    "from sklearn.externals import joblib\n",
    "import iterator_and_text_cleaner as it"
   ]
  },
  {
   "cell_type": "code",
   "execution_count": 5,
   "metadata": {
    "ExecuteTime": {
     "end_time": "2017-12-20T15:34:50.617063Z",
     "start_time": "2017-12-20T15:34:48.655100Z"
    }
   },
   "outputs": [
    {
     "data": {
      "text/plain": [
       "202399"
      ]
     },
     "execution_count": 5,
     "metadata": {},
     "output_type": "execute_result"
    }
   ],
   "source": [
    "source_path = '../converted/'\n",
    "txt_files = glob.glob(source_path + '199*/*')\n",
    "len(txt_files)"
   ]
  },
  {
   "cell_type": "code",
   "execution_count": 6,
   "metadata": {
    "ExecuteTime": {
     "end_time": "2017-12-20T15:34:51.330532Z",
     "start_time": "2017-12-20T15:34:50.693997Z"
    }
   },
   "outputs": [],
   "source": [
    "NUM_CATEGORIES = 5\n",
    "Y = np.empty((len(txt_files), NUM_CATEGORIES))\n",
    "for idx, file in enumerate(txt_files):\n",
    "    Y[idx] = label_from_id(file)"
   ]
  },
  {
   "cell_type": "code",
   "execution_count": 8,
   "metadata": {
    "ExecuteTime": {
     "end_time": "2017-12-20T15:35:22.776205Z",
     "start_time": "2017-12-20T15:35:21.205554Z"
    }
   },
   "outputs": [],
   "source": [
    "count_vectorizer_with_stem = joblib.load('count_vectorizer_with_stem.pkl') "
   ]
  },
  {
   "cell_type": "code",
   "execution_count": 9,
   "metadata": {
    "ExecuteTime": {
     "end_time": "2017-12-20T15:35:58.164754Z",
     "start_time": "2017-12-20T15:35:23.429210Z"
    }
   },
   "outputs": [],
   "source": [
    "doc_term = scipy.io.mmread('countvect-articles')\n",
    "(NUM_ARTICLES, NUM_WORDS) = doc_term.shape"
   ]
  },
  {
   "cell_type": "markdown",
   "metadata": {},
   "source": [
    "# CountVectorizer como entrada de la red neuronal\n",
    "\n",
    "Hasta acá tenemos:\n",
    "\n",
    "* doc_term: matriz de (NUM_ARTICLES, NUM_WORDS) con los count de cada word\n",
    "* Y: matriz de (NUM_ARTICLES, NUM_CATEGORIES) con los labels"
   ]
  },
  {
   "cell_type": "code",
   "execution_count": 10,
   "metadata": {
    "ExecuteTime": {
     "end_time": "2017-12-20T15:35:59.934813Z",
     "start_time": "2017-12-20T15:35:58.242881Z"
    }
   },
   "outputs": [
    {
     "name": "stdout",
     "output_type": "stream",
     "text": [
      "(135607, 84168) (135607, 5)\n"
     ]
    }
   ],
   "source": [
    "x_train, x_test, y_train, y_test = train_test_split(doc_term, Y, test_size=0.33)\n",
    "print(x_train.shape, y_train.shape)"
   ]
  },
  {
   "cell_type": "code",
   "execution_count": 11,
   "metadata": {
    "ExecuteTime": {
     "end_time": "2017-12-20T15:36:00.361622Z",
     "start_time": "2017-12-20T15:36:00.328284Z"
    }
   },
   "outputs": [],
   "source": [
    "def build_model(layers, optimizer_method, lr=0.1, decay=0.0, model=None):\n",
    "    if model == None:\n",
    "        model = Sequential()\n",
    "        for layer in layers:\n",
    "            model.add(layer)\n",
    "\n",
    "    optimizer = optimizer_method(lr=lr, decay=decay)\n",
    "    model.compile(loss='binary_crossentropy', optimizer=optimizer, metrics=['accuracy'])\n",
    "    model.summary()\n",
    "    return model"
   ]
  },
  {
   "cell_type": "code",
   "execution_count": 12,
   "metadata": {
    "ExecuteTime": {
     "end_time": "2017-12-20T15:36:00.678292Z",
     "start_time": "2017-12-20T15:36:00.638019Z"
    }
   },
   "outputs": [],
   "source": [
    "def batch_generator(X, y, samples_per_epoch, batch_size):\n",
    "    number_of_batches = samples_per_epoch // batch_size\n",
    "    counter=0\n",
    "    shuffle_index = np.arange(np.shape(y)[0])\n",
    "    np.random.shuffle(shuffle_index)\n",
    "    X =  X[shuffle_index, :]\n",
    "    y =  y[shuffle_index]\n",
    "    while 1:\n",
    "        index_batch = shuffle_index[batch_size*counter:batch_size*(counter+1)]\n",
    "        X_batch = X[index_batch,:].todense()\n",
    "        y_batch = y[index_batch]\n",
    "        counter += 1\n",
    "        yield(np.array(X_batch),y_batch)\n",
    "        if (counter >= number_of_batches):\n",
    "            np.random.shuffle(shuffle_index)\n",
    "            counter=0"
   ]
  },
  {
   "cell_type": "code",
   "execution_count": 13,
   "metadata": {
    "ExecuteTime": {
     "end_time": "2017-12-20T15:36:01.005953Z",
     "start_time": "2017-12-20T15:36:00.962806Z"
    }
   },
   "outputs": [],
   "source": [
    "def train_model(model, x_train, x_test, y_train, y_test, weights_file=None, batch_size=16, epochs=10):\n",
    "    plot_losses = PlotLosses(plot_interval=1, evaluate_interval=None, x_val=x_test, y_val_categorical=y_test)\n",
    "    callbacks = [plot_losses]\n",
    "\n",
    "    if weights_file != None:\n",
    "        checkpointer = ModelCheckpoint(filepath=weights_file, verbose=0, save_best_only=True)\n",
    "        callbacks.append(checkpointer)\n",
    "\n",
    "    steps_per_epoch = x_train.shape[0] // batch_size\n",
    "    print(\"Steps per epoch = \", steps_per_epoch)\n",
    "    generator = batch_generator(x_train, y_train, samples_per_epoch=steps_per_epoch, batch_size=batch_size)\n",
    "    vals_per_epoc = x_test.shape[0] // batch_size\n",
    "    val_generator = batch_generator(x_test, y_test, samples_per_epoch=vals_per_epoc, batch_size=batch_size)\n",
    "    result = model.fit_generator(\n",
    "        generator,\n",
    "        steps_per_epoch=steps_per_epoch,\n",
    "        epochs=epochs,\n",
    "        validation_data=val_generator,\n",
    "        validation_steps=vals_per_epoc,\n",
    "        verbose=1,\n",
    "        callbacks=callbacks,\n",
    "    )\n",
    "    return result"
   ]
  },
  {
   "cell_type": "code",
   "execution_count": 14,
   "metadata": {
    "ExecuteTime": {
     "end_time": "2017-12-20T15:36:01.409071Z",
     "start_time": "2017-12-20T15:36:01.283831Z"
    }
   },
   "outputs": [
    {
     "name": "stdout",
     "output_type": "stream",
     "text": [
      "_________________________________________________________________\n",
      "Layer (type)                 Output Shape              Param #   \n",
      "=================================================================\n",
      "dense_1 (Dense)              (None, 5)                 420845    \n",
      "=================================================================\n",
      "Total params: 420,845\n",
      "Trainable params: 420,845\n",
      "Non-trainable params: 0\n",
      "_________________________________________________________________\n"
     ]
    }
   ],
   "source": [
    "model = build_model(\n",
    "    [\n",
    "        Dense(NUM_CATEGORIES, input_dim=NUM_WORDS, activation='sigmoid'),\n",
    "    ],\n",
    "    optimizers.SGD,\n",
    "    lr=0.002)"
   ]
  },
  {
   "cell_type": "code",
   "execution_count": 14,
   "metadata": {
    "ExecuteTime": {
     "end_time": "2017-12-19T00:19:53.490841Z",
     "start_time": "2017-12-18T23:03:12.280460Z"
    }
   },
   "outputs": [
    {
     "data": {
      "image/png": "[encoded data removed]",
      "text/plain": [
       "<matplotlib.figure.Figure at 0x11355c2e8>"
      ]
     },
     "metadata": {
      "image/png": {
       "height": 306,
       "width": 1161
      }
     },
     "output_type": "display_data"
    },
    {
     "name": "stdout",
     "output_type": "stream",
     "text": [
      "\b\b\b\b\b\b\b\b\b\b\b\b\b\b\b\b\b\b\b\b\b\b\b\b\b\b\b\b\b\b\b\b\b\b\b\b\b\b\b\b\b\b\b\b\b\b\b\b\b\b\b\b\b\b\b\b\b\b\b\b\b\b\b\b\b\b\b\b\b\b\b\b\b\b\b\b\b\b\b\b\b\r",
      "4237/4237 [==============================] - 74s 17ms/step - loss: 0.0695 - acc: 0.9783 - val_loss: 0.0737 - val_acc: 0.9766\n"
     ]
    },
    {
     "data": {
      "text/plain": [
       "<keras.callbacks.History at 0x11bdbdd68>"
      ]
     },
     "execution_count": 14,
     "metadata": {},
     "output_type": "execute_result"
    }
   ],
   "source": [
    "train_model(model, x_train, x_test, y_train, y_test, weights_file='countvect1.weights', batch_size=32, epochs=60)"
   ]
  },
  {
   "cell_type": "code",
   "execution_count": 15,
   "metadata": {
    "ExecuteTime": {
     "end_time": "2017-12-20T15:36:07.372947Z",
     "start_time": "2017-12-20T15:36:07.214181Z"
    }
   },
   "outputs": [],
   "source": [
    "model.load_weights('countvect1.weights')"
   ]
  },
  {
   "cell_type": "code",
   "execution_count": 16,
   "metadata": {
    "ExecuteTime": {
     "end_time": "2017-12-20T15:36:08.544148Z",
     "start_time": "2017-12-20T15:36:08.515846Z"
    }
   },
   "outputs": [],
   "source": [
    "count_vectorizer = CountVectorizer(\n",
    "    input='content',\n",
    "    stop_words='english',\n",
    "    tokenizer=util.tokenize_and_stem,\n",
    "    vocabulary=count_vectorizer_with_stem.vocabulary_\n",
    ")"
   ]
  },
  {
   "cell_type": "code",
   "execution_count": 17,
   "metadata": {
    "ExecuteTime": {
     "end_time": "2017-12-20T15:36:09.554158Z",
     "start_time": "2017-12-20T15:36:09.523955Z"
    }
   },
   "outputs": [],
   "source": [
    "def predict_from_text(model, text):\n",
    "    wordcounts = count_vectorizer.fit_transform([text])\n",
    "    probs = model.predict(wordcounts.todense())\n",
    "    for i, proba in enumerate(probs[0]):\n",
    "        if proba > 0.2:\n",
    "            print(all_labels[i], proba)"
   ]
  },
  {
   "cell_type": "code",
   "execution_count": 19,
   "metadata": {
    "ExecuteTime": {
     "end_time": "2017-12-20T15:36:18.992127Z",
     "start_time": "2017-12-20T15:36:18.923245Z"
    }
   },
   "outputs": [
    {
     "name": "stdout",
     "output_type": "stream",
     "text": [
      "POLITICS 0.991251\n"
     ]
    }
   ],
   "source": [
    "cnn_politics = \"Today, Democrats hold just one of the 26 Senate seats in the 13 states that, like Alabama,\\\n",
    "have voted Republican in every presidential election since 1992. Republicans in turn hold just one of the 30 \\\n",
    "Senate seats in the 15 states that voted Democratic in all seven presidential elections since then. That means \\\n",
    "if Jones wins he would be just the third senator from the opposing party to hold one of the 56 Senate seats in\\\n",
    "the 28 states that have voted the same way in each of the past seven presidential elections.\\\n",
    "The consistency between presidential and Senate results is much, much greater than it used to be,\\\n",
    "says Alan Abramowitz, a political scientist at Emory University.\"\n",
    "\n",
    "predict_from_text(model, cnn_politics)"
   ]
  },
  {
   "cell_type": "code",
   "execution_count": 20,
   "metadata": {
    "ExecuteTime": {
     "end_time": "2017-12-20T15:36:22.145680Z",
     "start_time": "2017-12-20T15:36:22.075583Z"
    }
   },
   "outputs": [
    {
     "name": "stdout",
     "output_type": "stream",
     "text": [
      "ECONOMICS 0.58671\n",
      "POLITICS 0.682905\n"
     ]
    }
   ],
   "source": [
    "bloomberg = \"House and Senate negotiators are planning to limit the deduction for mortgage interest to\\\n",
    "loans of $750,000 or less, according to Representative Tom MacArthur, a New Jersey Republican. MacArthur\\\n",
    "said the $750,000 limit would be positive for his district compared to the House bill. He added that lawmakers\\\n",
    "are still discussing whether to allow a deduction for state and local income taxes as part of a proposed cap of \\\n",
    "$10,000 for property taxes. He also said he’s pushing to preserve a deduction for large medical expenses that \\\n",
    "the House bill would called for eliminating. Current law limits the mortgage deduction to loans of $1 million\\\n",
    "or less. The tax break is one of the sticking points House and Senate lawmakers have been trying to resolve this\\\n",
    "week. The House bill calls for slashing the deduction cap for new purchases of homes in half -- to loans of \\\n",
    "$500,000 or less. The Senate legislation preserved the current limit.\"\n",
    "\n",
    "predict_from_text(model, bloomberg)"
   ]
  },
  {
   "cell_type": "code",
   "execution_count": 21,
   "metadata": {
    "ExecuteTime": {
     "end_time": "2017-12-20T15:36:22.937126Z",
     "start_time": "2017-12-20T15:36:22.865731Z"
    }
   },
   "outputs": [
    {
     "name": "stdout",
     "output_type": "stream",
     "text": [
      "ECONOMICS 0.889311\n"
     ]
    }
   ],
   "source": [
    "bloomberg2 = \"Despite a recent bounce back, analysts and investors say the greenback could lose more ground\\\n",
    "against the euro and yen as the prospect of strong economic growth and tighter monetary policy outside the \\\n",
    "U.S. more than offsets higher interest rates at home. The dollar is down more than 7 percent versus the world’s\\\n",
    "major currencies this year, the most in over a decade. The economic growth “we’re seeing in Europe, emerging \\\n",
    "markets and the rest of the world will likely cause the dollar to sell off again,” said Erin Browne, the head \\\n",
    "of asset allocation at UBS Asset Management, which oversees about $770 billion. When it comes to what central\\\n",
    "banks in Europe and Japan might do, “there’s very little priced in.”\"\n",
    "\n",
    "predict_from_text(model, bloomberg2)"
   ]
  },
  {
   "cell_type": "code",
   "execution_count": 22,
   "metadata": {
    "ExecuteTime": {
     "end_time": "2017-12-20T15:36:24.234312Z",
     "start_time": "2017-12-20T15:36:24.164235Z"
    }
   },
   "outputs": [
    {
     "name": "stdout",
     "output_type": "stream",
     "text": [
      "SPORTS 0.982051\n"
     ]
    }
   ],
   "source": [
    "cnn_sports = \"With 14 wins and just one draw so far, Manchester City are on pace to pull off the most dominant\\\n",
    "season in Premier League history -- but can they go undefeated? Since drawing with Everton in their second \\\n",
    "league game of the season, Pep Guardiola's City has won 13-matches in a row while posting a staggering 36 \\\n",
    "goal difference. heir Champions League performances been nearly as impressive, with City winning its first \\\n",
    "five matches and locking up the group before losing to Shakhtar Donetsk earlier this week.\"\n",
    "\n",
    "predict_from_text(model, cnn_sports)"
   ]
  },
  {
   "cell_type": "code",
   "execution_count": 23,
   "metadata": {
    "ExecuteTime": {
     "end_time": "2017-12-20T15:36:26.136443Z",
     "start_time": "2017-12-20T15:36:26.066701Z"
    }
   },
   "outputs": [
    {
     "name": "stdout",
     "output_type": "stream",
     "text": [
      "ENTERTAINMENT 0.910979\n"
     ]
    }
   ],
   "source": [
    "cnn_entertainment = \"Disney's next installment in the \\\"Star Wars\\\" saga has become Fandango's top advance \\\n",
    "ticket-seller of the year, the online ticket site reported on Tuesday. The film, which doesn't officially open \\\n",
    "in North America until Friday with previews beginning Thursday night, toppled another Disney production, \\\n",
    "\\\"Beauty and the Beast,\\\" which came out in March, for the top spot. \\\"The Last Jedi\\\" is the biggest \\\n",
    "ticket pre-seller for Fandango since the series' last film, 2015's \\\"Star Wars: The Force Awakens,\\\" which \\\n",
    "went on to become the biggest opening in film history. \\\"The Last Jedi\\\" debuts in more than 4,100 \\\n",
    "theaters domestically and is on track for an opening weekend in the $200 million range. However, \\\n",
    "some box office analysts are saying the movie has the chance to open even higher. Fandango also put \\\n",
    "together some interesting data on why audiences are looking forward to the film, which stars Mark Hamill\\\n",
    "as Luke Skywalker and Daisy Ridley as Rey.\"\n",
    "\n",
    "predict_from_text(model, cnn_entertainment)"
   ]
  },
  {
   "cell_type": "code",
   "execution_count": 24,
   "metadata": {
    "ExecuteTime": {
     "end_time": "2017-12-20T15:36:27.181874Z",
     "start_time": "2017-12-20T15:36:27.104407Z"
    }
   },
   "outputs": [
    {
     "name": "stdout",
     "output_type": "stream",
     "text": [
      "ECONOMICS 0.329781\n",
      "ENTERTAINMENT 0.261381\n",
      "TECHNOLOGY 0.473572\n"
     ]
    }
   ],
   "source": [
    "cnn_tech = \"The internet company released a trio of free photo apps on Monday. Created as experiments by different \\\n",
    "Google (GOOG) departments, the simple mobile apps include a photo booth with pose-detecting powers, a way\\\n",
    "to remix videos like a DJ, and a tool for turning any mundane adventure into a comic book panel.\\\n",
    "The company is calling the free downloads Appsperiments, a clunky portmanteau of apps and experiments.\\\n",
    "The tools offer a peek into the future of smartphone photography, which will increasingly rely on effects \\\n",
    "created by software. An early example is the Google Pixel 2 portrait mode, which uses software to fake a \\\n",
    "shallow depth-of-field effect. The next generation of cameras will have the capability to blend hardware\\\n",
    "and computer vision algorithms,\\\" said Alex Kauffmann, an interaction researcher at Google Research, in a blog post.\"\n",
    "\n",
    "predict_from_text(model, cnn_tech)"
   ]
  },
  {
   "cell_type": "markdown",
   "metadata": {},
   "source": [
    "## Análisis de la influencia de las top 100 palabras en cada categoría\n",
    "\n",
    "Se toman los pesos de cada neurona de salida y se los ordena en forma ascendente para saber a qué palabras pertenecen dichos pesos."
   ]
  },
  {
   "cell_type": "code",
   "execution_count": 25,
   "metadata": {
    "ExecuteTime": {
     "end_time": "2017-12-20T15:36:30.457567Z",
     "start_time": "2017-12-20T15:36:30.427894Z"
    }
   },
   "outputs": [],
   "source": [
    "weights, bias = model.get_weights()"
   ]
  },
  {
   "cell_type": "code",
   "execution_count": 26,
   "metadata": {
    "ExecuteTime": {
     "end_time": "2017-12-20T15:36:32.827152Z",
     "start_time": "2017-12-20T15:36:32.681366Z"
    }
   },
   "outputs": [],
   "source": [
    "idx2voc = np.array(count_vectorizer_with_stem.get_feature_names())"
   ]
  },
  {
   "cell_type": "code",
   "execution_count": 27,
   "metadata": {
    "ExecuteTime": {
     "end_time": "2017-12-20T15:36:34.091076Z",
     "start_time": "2017-12-20T15:36:34.018877Z"
    }
   },
   "outputs": [
    {
     "name": "stdout",
     "output_type": "stream",
     "text": [
      "----- ECONOMICS -----\n",
      "['newsroom' 'bond' 'strike' 'trade' 'budget' 'moody' 'economic' 'worker'\n",
      " 'pct' 'aid' 'union' 'desk' 'sale' 'tax' 'mln' 'currency' 'municipal'\n",
      " 'sanction' 'economy' 'date' 'coupon' 'employee' 'rate' 'balance'\n",
      " 'obligation' 'job' 'inflation' 'business' 'rat' 'issuer' 'export'\n",
      " 'monetary' 'reserve' 'finance' 'unemployment' 'investment' 'rise' 'bank'\n",
      " 'summit' 'price' 'revenue' 'cost' 'import' 'privatisation' 'emu' 'series'\n",
      " 'billion' 'aaa' 'bln' 'million' 'dollar' 'growth' 'figure' 'net' 'debt'\n",
      " 'treasury' 'industrial' 'spend' 'airline' 'company' 'visit' 'statistic'\n",
      " 'imf' 'food' 'wto' 'school' 'agreement' 'total' 'data' 'forecast' 'entry'\n",
      " 'bundesbank' 'index' 'yield' 'maturity' 'cty' 'cut' 'protest' 'gdp'\n",
      " 'quarter' 'district' 'wage' 'labor' 'employment' 'county' 'pay'\n",
      " 'cooperation' 'country' 'frankfurt' 'single' 'supply' 'note' 'delivery'\n",
      " 'tell' 'percent' 'mfn' 'service' 'competitive' 'fiscal' 'humanitarian']\n",
      "\n",
      "----- ENTERTAINMENT -----\n",
      "['film' 'art' 'television' 'music' 'movie' 'star' 'museum' 'concert'\n",
      " 'actor' 'book' 'culture' 'artist' 'award' 'release' 'singer' 'paint'\n",
      " 'jackson' 'festival' 'picture' 'theatre' 'prize' 'century' 'studio' 'song'\n",
      " 'sell' 'channel' 'audience' 'cultural' 'write' 'like' 'best' 'director'\n",
      " 'broadcast' 'medium' 'disney' 'band' 'rock' 'war' 'opera' 'feature'\n",
      " 'album' 'hollywood' 'die' 'record' 'screen' 'include' 'network' 'know'\n",
      " 'exhibition' 'actress' 'night' 'entertainment' 'writer' 'pop' 'story'\n",
      " 'old' 'warner' 'big' 'dance' 'organiser' 'live' 'miss' 'auction' 'cinema'\n",
      " 'language' 'pageant' 'internet' 'treasure' 'digital' 'people' 'age'\n",
      " 'history' 'event' 'sony' 'musician' 'unit' 'industry' 'work' 'oscar'\n",
      " 'london' 'love' 'bear' 'famous' 'critic' 'life' 'fan' 'just' 'cable'\n",
      " 'popular' 'collection' 'french' 'musical' 'perform' 'cbs' 'beauty' 'cosby'\n",
      " 'child' 'author' 'friend' 'novel']\n",
      "\n",
      "----- POLITICS -----\n",
      "['election' 'party' 'poll' 'president' 'vote' 'parliament' 'senate'\n",
      " 'cabinet' 'republican' 'political' 'clinton' 'yeltsin' 'right'\n",
      " 'palestinian' 'prime' 'voter' 'campaign' 'presidential' 'house' 'budget'\n",
      " 'conservative' 'democrat' 'socialist' 'secretary' 'minister' 'leader'\n",
      " 'resign' 'opposition' 'power' 'deng' 'coalition' 'candidate' 'post'\n",
      " 'deputy' 'corruption' 'mayor' 'parliamentary' 'referendum' 'democratic'\n",
      " 'seat' 'government' 'resignation' 'labour' 'governor' 'white' 'public'\n",
      " 'mobutu' 'independence' 'gov' 'dole' 'head' 'office' 'chief' 'civil'\n",
      " 'elect' 'rebel' 'brown' 'approve' 'welfare' 'appoint' 'administration'\n",
      " 'peace' 'health' 'politician' 'immigrant' 'kohl' 'student' 'debate'\n",
      " 'affair' 'speech' 'israeli' 'chancellor' 'moslem' 'congress' 'session'\n",
      " 'senator' 'hebron' 'jail' 'newspaper' 'spd' 'sentence' 'leave' 'charge'\n",
      " 'return' 'military' 'hold' 'scandal' 'prosecutor' 'spokesman'\n",
      " 'immigration' 'future' 'juppe' 'committee' 'investigation' 'handover'\n",
      " 'kremlin' 'cent' 'arafat' 'plo' 'aide']\n",
      "\n",
      "----- SPORTS -----\n",
      "['soccer' 'game' 'match' 'team' 'cup' 'result' 'league' 'club' 'world'\n",
      " 'race' 'sport' 'beat' 'championship' 'play' 'player' 'olympic' 'cricket'\n",
      " 'season' 'second' 'division' 'champion' 'test' 'score' 'australia'\n",
      " 'tennis' 'saturday' 'rugby' 'final' 'round' 'olympics' 'coach' 'england'\n",
      " 'stand' 'sunday' 'tournament' 'graf' 'football' 'title' 'south' 'run'\n",
      " 'stadium' 'wicket' 'inning' 'minute' 'tour' 'golf' 'open' 'scorer' 'goal'\n",
      " 'fight' 'atlanta' 'lead' 'tyson' 'grand' 'sydney' 'box' 'english' 'metre'\n",
      " 'event' 'injury' 'spain' 'germany' 'athletics' 'lose' 'africa' 'athlete'\n",
      " 'ioc' 'baseball' 'winner' 'point' 'course' 'halftime' 'federation' 'horse'\n",
      " 'captain' 'barcelona' 'bid' 'finish' 'basketball' 'sweden' 'striker' 'men'\n",
      " 'draw' 'zealand' 'bowl' 'prix' 'day' 'fan' 'train' 'milan' 'italy' 'super'\n",
      " 'victory' 'premier' 'wimbledon' 'international' 'summary' 'contract'\n",
      " 'indie' 'sign']\n",
      "\n",
      "----- TECHNOLOGY -----\n",
      "['space' 'scientist' 'research' 'researcher' 'use' 'study' 'launch' 'clone'\n",
      " 'human' 'mir' 'science' 'mission' 'satellite' 'disease' 'shuttle'\n",
      " 'technology' 'station' 'nasa' 'earth' 'university' 'cancer' 'computer'\n",
      " 'rocket' 'develop' 'internet' 'cell' 'cause' 'gene' 'scientific' 'like'\n",
      " 'crew' 'russian' 'know' 'journal' 'institute' 'patient' 'problem' 'mar'\n",
      " 'astronaut' 'expert' 'orbit' 'control' 'genetic' 'animal' 'drug' 'people'\n",
      " 'solar' 'engineer' 'module' 'information' 'risk' 'produce' 'test' 'work'\n",
      " 'vehicle' 'brain' 'life' 'discovery' 'cosmonaut' 'probe' 'medical'\n",
      " 'centre' 'laboratory' 'colleague' 'land' 'blood' 'heart' 'experiment'\n",
      " 'genetically' 'virus' 'mile' 'look' 'repair' 'write' 'make' 'planet'\n",
      " 'craft' 'power' 'vaccine' 'telescope' 'way' 'theory' 'weather' 'help'\n",
      " 'baby' 'sun' 'spacecraft' 'live' 'chemical' 'global' 'need' 'treatment'\n",
      " 'nuclear' 'project' 'technique' 'sheep' 'carry' 'aboard' 'dinosaur' 'link']\n",
      "\n"
     ]
    }
   ],
   "source": [
    "for label_idx, label in enumerate(all_labels):\n",
    "    print('-----', label, '-----')\n",
    "    sorted_weights = np.argsort(weights[:,label_idx])[::-1][0:100]\n",
    "    print(idx2voc[sorted_weights])\n",
    "    print()"
   ]
  },
  {
   "cell_type": "markdown",
   "metadata": {},
   "source": [
    "**NOTA**: Se nota que en tecnología en realidad se están categorizando artítulos que perteneces más bien a ciencia y no tanto a tecnología, y dado que son artículos de 1996/1197, no hay palabras *modernas* tales como Apple, Google, etc."
   ]
  },
  {
   "cell_type": "markdown",
   "metadata": {},
   "source": [
    "## Análisis de predicciones exactas\n",
    "\n",
    "La idea es utilizar el test set para ver cuánta predicciones dan como resultado exacto, es decir, coinciden los 5 valores de las categorías."
   ]
  },
  {
   "cell_type": "code",
   "execution_count": 29,
   "metadata": {
    "ExecuteTime": {
     "end_time": "2017-12-20T15:39:04.216275Z",
     "start_time": "2017-12-20T15:37:54.951542Z"
    }
   },
   "outputs": [],
   "source": [
    "predictions = model.predict(x_test.todense())"
   ]
  },
  {
   "cell_type": "code",
   "execution_count": 30,
   "metadata": {
    "ExecuteTime": {
     "end_time": "2017-12-20T15:39:05.231431Z",
     "start_time": "2017-12-20T15:39:05.202706Z"
    }
   },
   "outputs": [
    {
     "data": {
      "text/plain": [
       "(66792, 5)"
      ]
     },
     "execution_count": 30,
     "metadata": {},
     "output_type": "execute_result"
    }
   ],
   "source": [
    "predictions.shape"
   ]
  },
  {
   "cell_type": "code",
   "execution_count": 32,
   "metadata": {
    "ExecuteTime": {
     "end_time": "2017-12-20T15:39:18.100946Z",
     "start_time": "2017-12-20T15:39:17.678103Z"
    }
   },
   "outputs": [
    {
     "data": {
      "text/plain": [
       "60469"
      ]
     },
     "execution_count": 32,
     "metadata": {},
     "output_type": "execute_result"
    }
   ],
   "source": [
    "prefect_predictions = 0\n",
    "for idx, pred in enumerate(predictions):\n",
    "    if ((pred > .5) == (y_test[idx] > .5)).sum() == NUM_CATEGORIES:\n",
    "        prefect_predictions += 1\n",
    "prefect_predictions    "
   ]
  },
  {
   "cell_type": "code",
   "execution_count": 33,
   "metadata": {
    "ExecuteTime": {
     "end_time": "2017-12-20T15:39:19.451613Z",
     "start_time": "2017-12-20T15:39:19.423717Z"
    }
   },
   "outputs": [
    {
     "data": {
      "text/plain": [
       "0.9053329740088634"
      ]
     },
     "execution_count": 33,
     "metadata": {},
     "output_type": "execute_result"
    }
   ],
   "source": [
    "prefect_predictions / predictions.shape[0]"
   ]
  },
  {
   "cell_type": "code",
   "execution_count": 34,
   "metadata": {
    "ExecuteTime": {
     "end_time": "2017-12-20T15:39:27.897077Z",
     "start_time": "2017-12-20T15:39:27.510428Z"
    }
   },
   "outputs": [],
   "source": [
    "total_loss = 0\n",
    "for idx, pred in enumerate(predictions):\n",
    "    total_loss += np.logical_xor(pred> .5, y_test[idx] > .5).sum()"
   ]
  },
  {
   "cell_type": "code",
   "execution_count": 35,
   "metadata": {
    "ExecuteTime": {
     "end_time": "2017-12-20T15:39:29.004366Z",
     "start_time": "2017-12-20T15:39:28.974557Z"
    }
   },
   "outputs": [
    {
     "data": {
      "text/plain": [
       "0.022397891963109352"
      ]
     },
     "execution_count": 35,
     "metadata": {},
     "output_type": "execute_result"
    }
   ],
   "source": [
    "total_loss / predictions.shape[0] / NUM_CATEGORIES"
   ]
  },
  {
   "cell_type": "markdown",
   "metadata": {},
   "source": [
    "## Otra forma de calcular la exactitud teniendo en cuenta aciertos parciales"
   ]
  },
  {
   "cell_type": "code",
   "execution_count": 55,
   "metadata": {
    "ExecuteTime": {
     "end_time": "2017-12-20T19:11:53.479366Z",
     "start_time": "2017-12-20T19:11:52.960455Z"
    }
   },
   "outputs": [
    {
     "data": {
      "text/plain": [
       "0.94728909649858273"
      ]
     },
     "execution_count": 55,
     "metadata": {},
     "output_type": "execute_result"
    }
   ],
   "source": [
    "pred_sum = 0\n",
    "for idx, pred in enumerate(predictions):\n",
    "    r = ((pred > .5) * y_test[idx]).sum() / y_test[idx].sum()\n",
    "    pred_sum += r\n",
    "pred_sum / predictions.shape[0]"
   ]
  },
  {
   "cell_type": "code",
   "execution_count": null,
   "metadata": {},
   "outputs": [],
   "source": []
  }
 ],
 "metadata": {
  "kernelspec": {
   "display_name": "Python 3",
   "language": "python",
   "name": "python3"
  },
  "language_info": {
   "codemirror_mode": {
    "name": "ipython",
    "version": 3
   },
   "file_extension": ".py",
   "mimetype": "text/x-python",
   "name": "python",
   "nbconvert_exporter": "python",
   "pygments_lexer": "ipython3",
   "version": "3.6.3"
  },
  "varInspector": {
   "cols": {
    "lenName": 16,
    "lenType": 16,
    "lenVar": 40
   },
   "kernels_config": {
    "python": {
     "delete_cmd_postfix": "",
     "delete_cmd_prefix": "del ",
     "library": "var_list.py",
     "varRefreshCmd": "print(var_dic_list())"
    },
    "r": {
     "delete_cmd_postfix": ") ",
     "delete_cmd_prefix": "rm(",
     "library": "var_list.r",
     "varRefreshCmd": "cat(var_dic_list()) "
    }
   },
   "types_to_exclude": [
    "module",
    "function",
    "builtin_function_or_method",
    "instance",
    "_Feature"
   ],
   "window_display": false
  }
 },
 "nbformat": 4,
 "nbformat_minor": 2
}
