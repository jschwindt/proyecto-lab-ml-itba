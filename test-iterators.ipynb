{
 "cells": [
  {
   "cell_type": "code",
   "execution_count": 4,
   "metadata": {
    "ExecuteTime": {
     "end_time": "2017-12-16T19:20:39.961038Z",
     "start_time": "2017-12-16T19:20:39.937740Z"
    }
   },
   "outputs": [
    {
     "name": "stdout",
     "output_type": "stream",
     "text": [
      "The autoreload extension is already loaded. To reload it, use:\n",
      "  %reload_ext autoreload\n"
     ]
    }
   ],
   "source": [
    "%load_ext autoreload\n",
    "%autoreload 2\n",
    "%matplotlib inline\n",
    "%config InlineBackend.figure_format='retina'"
   ]
  },
  {
   "cell_type": "code",
   "execution_count": 5,
   "metadata": {
    "ExecuteTime": {
     "end_time": "2017-12-16T19:20:40.763732Z",
     "start_time": "2017-12-16T19:20:40.750732Z"
    }
   },
   "outputs": [],
   "source": [
    "import iterator_and_text_cleaner as it\n",
    "import numpy as np\n",
    "from matplotlib import pyplot as plt\n",
    "import glob"
   ]
  },
  {
   "cell_type": "code",
   "execution_count": 6,
   "metadata": {
    "ExecuteTime": {
     "end_time": "2017-12-16T19:20:41.539820Z",
     "start_time": "2017-12-16T19:20:41.527337Z"
    }
   },
   "outputs": [],
   "source": [
    "output_folder = '../converted/'"
   ]
  },
  {
   "cell_type": "code",
   "execution_count": 7,
   "metadata": {
    "ExecuteTime": {
     "end_time": "2017-12-16T19:20:42.830551Z",
     "start_time": "2017-12-16T19:20:42.367750Z"
    }
   },
   "outputs": [
    {
     "name": "stdout",
     "output_type": "stream",
     "text": [
      "Total files:  130059\n"
     ]
    }
   ],
   "source": [
    "txt_files = glob.glob(output_folder + '**/*')\n",
    "print(\"Total files: \", len(txt_files))"
   ]
  },
  {
   "cell_type": "code",
   "execution_count": 14,
   "metadata": {
    "ExecuteTime": {
     "end_time": "2017-12-16T19:25:24.380573Z",
     "start_time": "2017-12-16T19:25:24.366428Z"
    }
   },
   "outputs": [
    {
     "data": {
      "text/plain": [
       "'../converted/19970602/630707-ECONOMICS'"
      ]
     },
     "execution_count": 14,
     "metadata": {},
     "output_type": "execute_result"
    }
   ],
   "source": [
    "simple_iterator = iter(it.SimpleIterator(txt_files))\n",
    "next(simple_iterator)\n",
    "txt_files[0]"
   ]
  },
  {
   "cell_type": "code",
   "execution_count": 8,
   "metadata": {
    "ExecuteTime": {
     "end_time": "2017-12-16T19:23:03.836762Z",
     "start_time": "2017-12-16T19:22:10.600644Z"
    }
   },
   "outputs": [],
   "source": [
    "simple_iterator = it.SimpleIterator(txt_files)\n",
    "\n",
    "length_vect = []\n",
    "\n",
    "for x in simple_iterator:\n",
    "    length_vect.append(len(x))\n",
    "    if len(x) > 2000:\n",
    "        total_len += 1\n",
    "        print(' '.join(x[0:20]))\n"
   ]
  },
  {
   "cell_type": "code",
   "execution_count": 9,
   "metadata": {
    "ExecuteTime": {
     "end_time": "2017-12-16T19:23:06.821942Z",
     "start_time": "2017-12-16T19:23:06.793079Z"
    }
   },
   "outputs": [
    {
     "name": "stdout",
     "output_type": "stream",
     "text": [
      "799\n",
      "187.182473393\n",
      "293.655119438\n"
     ]
    },
    {
     "data": {
      "text/plain": [
       "126928"
      ]
     },
     "execution_count": 9,
     "metadata": {},
     "output_type": "execute_result"
    }
   ],
   "source": [
    "npa = np.array(length_vect)\n",
    "print(npa.max())\n",
    "print(npa.std())\n",
    "print(npa.mean())\n",
    "len(length_vect)"
   ]
  },
  {
   "cell_type": "code",
   "execution_count": 10,
   "metadata": {
    "ExecuteTime": {
     "end_time": "2017-12-16T19:23:16.386031Z",
     "start_time": "2017-12-16T19:23:15.592770Z"
    }
   },
   "outputs": [
    {
     "data": {
      "image/png": "[encoded data removed]",
      "text/plain": [
       "<matplotlib.figure.Figure at 0x109061ef0>"
      ]
     },
     "metadata": {
      "image/png": {
       "height": 304,
       "width": 1164
      }
     },
     "output_type": "display_data"
    }
   ],
   "source": [
    "plt.figure(figsize=(20,5))\n",
    "plt.hist(npa, bins=100)\n",
    "plt.show()"
   ]
  },
  {
   "cell_type": "code",
   "execution_count": 7,
   "metadata": {
    "ExecuteTime": {
     "end_time": "2017-12-01T19:49:08.270796Z",
     "start_time": "2017-12-01T19:49:08.255838Z"
    },
    "collapsed": true
   },
   "outputs": [],
   "source": [
    "news_iterator = it.NewsIterator(output_folder, max_words=200, padding_size=3)"
   ]
  },
  {
   "cell_type": "code",
   "execution_count": 8,
   "metadata": {
    "ExecuteTime": {
     "end_time": "2017-12-01T19:49:08.323834Z",
     "start_time": "2017-12-01T19:49:08.273423Z"
    }
   },
   "outputs": [
    {
     "name": "stdout",
     "output_type": "stream",
     "text": [
      "200 ['lamfalussy', 'change', 'in', 'reserve', 'policy', 'has', 'cut', 'burden', 'european', 'monetary', 'institute', 'emi', 'president', 'alexandre', 'lamfalussy', 'said', 'on', 'friday', 'gradual', 'changes', 'in', 'the', 'use', 'of', 'the', 'minimum', 'reserve', 'requirement', 'in', 'recent', 'years', 'had', 'considerably', 'reduced', 'the', 'burden', 'imposed', 'on', 'banks', 'by', 'that', 'instrument', 'if', 'i', 'observe', 'the', 'last', 'five', 'to', '10', 'years', 'what', 'i', 'have', 'been', 'seeing', 'is', 'the', 'evolution', 'of', 'reserve', 'requirement', 'techniques', 'which', 'has', 'considerably', 'diminished', 'this', 'tax', 'this', 'burden', 'on', 'the', 'banks', 'lamfalussy', 'told', 'a', 'news', 'conference', 'there', 'has', 'been', 'a', 'declining', 'trend', 'which', 'is', 'visible', 'lamfalussy', 'reiterated', 'that', 'it', 'was', 'up', 'to', 'the', 'future', 'european', 'central', 'bank', 'ecb', 'to', 'decide', 'whether', 'to', 'adopt', 'minimum', 'reserves', 'as', 'a', 'policy', 'tool', 'the', 'maastricht', 'treaty', 'obliged', 'the', 'emi', 'to', 'provide', 'the', 'ecb', 'with', 'the', 'option', 'to', 'adopt', 'minimum', 'reserves', 'the', 'bundesbank', 'has', 'reduced', 'its', 'minimum', 'reserve', 'requirement', 'on', 'several', 'occasions', 'in', 'recent', 'years', 'most', 'recently', 'in', 'december', 'when', 'said', 'it', 'would', 'free', 'securities', 'repurchase', 'agreements', 'repos', 'from', 'the', 'requirement', 'frankfurt', 'newsroom', '49', '69', '756525', '<PAD>', '<PAD>', '<PAD>', '<PAD>', '<PAD>', '<PAD>', '<PAD>', '<PAD>', '<PAD>', '<PAD>', '<PAD>', '<PAD>', '<PAD>', '<PAD>', '<PAD>', '<PAD>', '<PAD>', '<PAD>', '<PAD>', '<PAD>', '<PAD>', '<PAD>', '<PAD>', '<PAD>', '<PAD>', '<PAD>', '<PAD>', '<PAD>', '<PAD>', '<PAD>', '<PAD>', '<PAD>', '<PAD>', '<PAD>', '<PAD>', '<PAD>']\n",
      "200 ['ukraine', 'deputies', 'extend', 'c', 'bank', 'chief', 'term', 'to', 'feb', '5', 'the', 'ukrainian', 'parliament', 'on', 'thursday', 'extended', 'central', 'bank', 'chief', 'viktor', 'yushchenko', 's', 'term', 'due', 'to', 'expire', 'in', 'four', 'days', 'to', 'allow', 'time', 'for', 'a', 'vote', 'on', 'his', 'candidacy', 'they', 'appointed', 'yushchenko', 'acting', 'head', 'of', 'the', 'bank', 'until', 'february', '5', 'when', 'they', 'are', 'expected', 'to', 'grant', 'him', 'a', 'second', 'term', 'in', 'line', 'with', 'a', 'request', 'by', 'president', 'leonid', 'kuchma', 'during', 'his', 'four', 'years', 'at', 'the', 'bank', 'yushchenko', 'has', 'won', 'respect', 'in', 'the', 'west', 'as', 'an', 'advocate', 'of', 'tight', 'monetary', 'policy', 'prime', 'minister', 'pavlo', 'lazarenko', 'has', 'backed', 'yushchenko', 's', 'candidacy', 'despite', 'his', 'criticism', 'of', 'the', 'bank', 's', 'policies', 'kiev', 'newsroom', '38', '044', '229', '2264', '<PAD>', '<PAD>', '<PAD>', '<PAD>', '<PAD>', '<PAD>', '<PAD>', '<PAD>', '<PAD>', '<PAD>', '<PAD>', '<PAD>', '<PAD>', '<PAD>', '<PAD>', '<PAD>', '<PAD>', '<PAD>', '<PAD>', '<PAD>', '<PAD>', '<PAD>', '<PAD>', '<PAD>', '<PAD>', '<PAD>', '<PAD>', '<PAD>', '<PAD>', '<PAD>', '<PAD>', '<PAD>', '<PAD>', '<PAD>', '<PAD>', '<PAD>', '<PAD>', '<PAD>', '<PAD>', '<PAD>', '<PAD>', '<PAD>', '<PAD>', '<PAD>', '<PAD>', '<PAD>', '<PAD>', '<PAD>', '<PAD>', '<PAD>', '<PAD>', '<PAD>', '<PAD>', '<PAD>', '<PAD>', '<PAD>', '<PAD>', '<PAD>', '<PAD>', '<PAD>', '<PAD>', '<PAD>', '<PAD>', '<PAD>', '<PAD>', '<PAD>', '<PAD>', '<PAD>', '<PAD>', '<PAD>', '<PAD>', '<PAD>', '<PAD>', '<PAD>', '<PAD>', '<PAD>', '<PAD>', '<PAD>', '<PAD>', '<PAD>', '<PAD>', '<PAD>', '<PAD>', '<PAD>', '<PAD>', '<PAD>', '<PAD>', '<PAD>']\n",
      "200 ['bulgarian', 'students', 'hold', 'lively', 'rallies', 'for', 'change', 'thousands', 'of', 'bulgarian', 'students', 'rock', 'mock', 'and', 'talk', 'in', 'colourful', 'daily', 'rallies', 'to', 'try', 'to', 'drive', 'the', 'ruling', 'socialists', 'from', 'power', 'and', 'to', 'press', 'for', 'change', 'in', 'a', 'country', 'on', 'the', 'brink', 'of', 'economic', 'collapse', 'from', 'their', 'sombre', 'march', 'of', 'the', 'dead', 'to', 'a', 'mr', 'and', 'miss', 'protest', 'contest', 'the', 'students', 'have', 'kept', 'up', 'a', 'spirit', 'of', 'gaiety', 'and', 'non', 'violence', 'while', 'challenging', 'bulgaria', 's', 'ex', 'communist', 'rulers', 'the', 'students', 'are', 'in', 'contact', 'with', 'their', 'counterparts', 'in', 'belgrade', 'the', 'serbian', 'capital', 'and', 'have', 'exchanged', 'ideas', 'for', 'keeping', 'the', 'demonstrations', 'enthusiastic', 'and', 'entertaining', 'there', 'are', 'a', 'lot', 'of', 'common', 'things', 'between', 'our', 'protest', 'and', 'the', 'rallies', 'of', 'the', 'serbian', 'students', 'as', 'we', 'are', 'both', 'young', 'with', 'fresh', 'ideas', 'enthusiasm', 'and', 'a', 'firm', 'commitment', 'to', 'change', 'said', 'borislav', 'borislavov', 'a', 'student', 'leader', 'from', 'sofia', 'university', 'serbian', 'protesters', 'have', 'campaigned', 'with', 'festive', 'rallies', 'for', '10', 'weeks', 'to', 'challenge', 'president', 'slobodan', 'milosevic', 'and', 'protest', 'against', 'alleged', 'election', 'fraud', 'bulgarian', 'students', 'with', 'towels', 'and', 'bottles', 'of', 'water', 'will', 'hold', 'a', 'washed', 'hands', 'march', 'on', 'tuesday', 'to', 'mock', 'the', 'socialists', 'clean', 'hands', 'initiative', 'to', 'stop', 'rampant', 'corruption', 'later', 'this', 'week', 'they', 'plan', 'a', 'torch', 'rally', 'and', '<PAD>', '<PAD>', '<PAD>']\n",
      "200 ['bulgaria', 'to', 'let', 'market', 'set', 'rates', 'cbank', 'official', 'the', 'bulgarian', 'national', 'bank', 'bnb', 'decided', 'on', 'friday', 'to', 'replace', 'its', 'main', 'interest', 'rate', 'with', 'interest', 'rates', 'set', 'by', 'interbank', 'lev', 'deposits', 'and', 'government', 'securities', 'market', 'a', 'bnb', 'official', 'said', 'the', 'decision', 'is', 'in', 'line', 'with', 'preparations', 'for', 'implementation', 'of', 'a', 'currency', 'board', 'said', 'the', 'official', 'who', 'declined', 'to', 'be', 'named', 'the', 'decision', 'effective', 'from', 'monday', 'has', 'yet', 'to', 'be', 'announced', 'officially', 'with', 'more', 'details', 'later', 'on', 'friday', 'said', 'the', 'official', 'the', 'international', 'monetary', 'fund', 'imf', 'has', 'proposed', 'last', 'year', 'the', 'introduction', 'of', 'currency', 'board', 'system', 'which', 'severly', 'curbs', 'financial', 'powers', 'of', 'the', 'government', 'and', 'the', 'central', 'bank', 'under', 'the', 'system', 'the', 'central', 'bank', 'will', 'not', 'be', 'able', 'to', 'print', 'levs', 'it', 'cannot', 'cover', 'with', 'hard', 'currency', 'reserves', 'which', 'is', 'expected', 'to', 'remove', 'political', 'pressure', 'from', 'monetary', 'policy', 'bulgaria', 's', 'central', 'bank', 'raised', 'the', 'main', 'interest', 'rate', 'to', 'a', 'record', 'high', 'of', '300', 'percent', 'annually', 'in', 'september', 'in', 'a', 'bid', 'to', 'support', 'the', 'collapsing', 'lev', 'by', 'curbing', 'panic', 'withdrawals', 'of', 'savings', 'and', 'their', 'conversion', 'into', 'dollars', 'worsening', 'financial', 'crisis', 'prevented', 'the', 'central', 'bank', 'from', 'reducing', 'the', 'rate', 'lower', 'than', '180', 'percent', 'since', 'then', 'if', 'the', 'central', 'interest', 'rate', 'was', '<PAD>', '<PAD>', '<PAD>']\n",
      "200 ['mongolian', 'unemployment', 'up', '22', '8', 'pct', 'in', '1996', 'the', 'ranks', 'of', 'those', 'officially', 'unemployed', 'in', 'mongolia', 'swelled', 'by', '22', '8', 'percent', 'to', '55', '400', 'last', 'year', 'the', 'state', 'statistics', 'centre', 'said', 'in', 'a', 'report', 'available', 'on', 'sunday', 'the', 'jobless', 'rate', 'was', 'about', '4', '67', 'percent', 'at', 'the', 'end', 'of', '1996', 'the', 'report', 'said', 'adding', 'that', 'figure', 'only', 'reflected', 'those', 'who', 'had', 'officially', 'registered', 'as', 'unemployed', 'there', 'are', 'large', 'numbers', 'of', 'unregistered', 'unemployed', 'people', 'therefore', 'data', 'on', 'unemployment', 'is', 'less', 'than', 'the', 'actual', 'situation', 'the', 'report', 'said', 'about', '802', '000', 'of', 'mongolia', 's', '2', '3', 'million', 'people', 'had', 'jobs', 'at', 'the', 'end', 'of', '1995', 'it', 'said', 'but', 'gave', 'no', 'figures', 'for', '1996', 'the', 'highest', 'recorded', 'unemployment', 'rate', 'was', 'in', 'the', 'eastern', 'province', 'of', 'dornod', 'where', 'the', 'figure', 'reached', 'nearly', '14', '2', 'percent', 'it', 'said', 'mongolia', 'has', 'been', 'grappling', 'with', 'a', 'painful', 'transition', 'from', 'a', 'stalinist', 'style', 'planned', 'economy', 'that', 'relied', 'on', 'backing', 'from', 'the', 'former', 'soviet', 'union', 'to', 'a', 'more', 'liberal', 'economy', 'based', 'on', 'market', 'forces', 'crime', 'has', 'increased', 'along', 'with', 'the', 'unemployment', 'mongolian', 'police', 'recorded', '22', '368', 'offences', 'in', '1996', 'up', 'by', '9', '1', 'percent', 'from', 'the', 'year', 'before', 'the', 'report', 'said', 'crime', 'caused', 'an', 'estimated', '11', '<PAD>', '<PAD>', '<PAD>']\n",
      "200 ['rtrs', 'cricket', 'pakistan', 'fight', 'back', 'after', 'collapse', 'pakistan', 'recovered', 'from', 'a', 'dismal', 'top', 'order', 'collapse', 'to', 'beat', 'australia', 'by', '29', 'runs', 'on', 'tuesday', 'in', 'a', 'low', 'scoring', 'world', 'series', 'limited', 'overs', 'match', 'dominated', 'by', 'bowlers', 'chasing', 'pakistan', 's', 'seemingly', 'inadequate', 'total', 'of', '149', 'all', 'out', 'australia', 'were', 'dismissed', 'for', 'a', 'paltry', '120', 'on', 'a', 'lively', 'wicket', 'at', 'bellerive', 'oval', 'it', 'was', 'a', 'remarkable', 'performance', 'by', 'pakistan', 'after', 'their', 'top', 'three', 'batsmen', 'aamir', 'sohail', 'zahoor', 'elahi', 'and', 'ijaz', 'ahmed', 'were', 'all', 'dismissed', 'for', 'ducks', 'to', 'leave', 'them', 'in', 'disarray', 'at', 'seven', 'for', 'three', 'early', 'on', 'but', 'a', 'spirited', 'innings', 'of', '54', 'the', 'highest', 'score', 'of', 'the', 'match', 'by', 'mohammad', 'wasim', 'lifted', 'his', 'side', 'to', 'a', 'respectable', 'total', 'that', 'ultimately', 'proved', 'enough', 'for', 'his', 'bowlers', 'to', 'defend', 'pakistan', 'captain', 'wasim', 'akram', 'and', 'fellow', 'fast', 'bowler', 'mohammad', 'zahid', 'fully', 'exploited', 'a', 'pitch', 'that', 'offered', 'both', 'movement', 'and', 'variable', 'bounce', 'to', 'dismiss', 'australia', 'in', '41', '3', 'overs', 'at', 'times', 'the', 'pitch', 'was', 'almost', 'unplayable', 'as', 'deliveries', 'reared', 'alarmingly', 'off', 'a', 'length', 'troubling', 'all', 'the', 'batsmen', 'the', 'final', 'result', 'justified', 'akram', 's', 'decision', 'to', 'bat', 'in', 'overcast', 'conditions', 'favourable', 'to', 'the', 'bowlers', 'after', 'winning', 'the', 'toss', 'in', 'front', 'of', 'a', 'record', 'crowd', '<PAD>', '<PAD>', '<PAD>']\n",
      "200 ['moslem', 'leader', 'in', 'comoros', 'attacks', 'obscene', 'attire', 'the', 'spiritual', 'leader', 'of', 'moslems', 'on', 'the', 'comoro', 'islands', 'has', 'marked', 'the', 'holy', 'fasting', 'month', 'of', 'ramadan', 'with', 'a', 'call', 'for', 'a', 'crackdown', 'on', 'women', 'wearing', 'obscene', 'clothes', 'their', 'behaviour', 'is', 'deeply', 'corrupting', 'our', 'society', 'said', 'mohamed', 'charif', 'told', 'the', '600', '000', 'islanders', 'in', 'a', 'weekend', 'radio', 'broadcast', 'he', 'told', 'security', 'forces', 'to', 'redouble', 'their', 'efforts', 'to', 'track', 'down', 'ladies', 'and', 'girls', 'wearing', 'obscene', 'clothes', 'whose', 'number', 'has', 'been', 'unceasingly', 'increasing', 'charif', 'is', 'chairman', 'of', 'the', 'council', 'of', 'ulemas', 'or', 'senior', 'islamic', 'jurists', 'and', 'theologians', 'he', 'did', 'not', 'specify', 'the', 'type', 'of', 'clothes', 'that', 'irked', 'him', 'but', 'some', 'women', 'islanders', 'favour', 'western', 'fashions', 'including', 'miniskirts', 'perhaps', 'influenced', 'by', 'the', 'foreign', 'tourists', 'who', 'flock', 'to', 'the', 'comoros', 'because', 'of', 'the', 'beautiful', 'beaches', 'the', 'indian', 'ocean', 'islands', 'whose', 'population', 'is', 'almost', 'entirely', 'moslem', 'began', 'fasting', 'on', 'saturday', 'the', 'islamist', 'party', 'won', 'three', 'of', 'the', '43', 'seats', 'in', 'parliament', 'in', 'last', 'december', 's', 'general', 'elections', 'boycotted', 'by', 'the', 'opposition', 'charif', 's', 'address', 'was', 'in', 'place', 'of', 'the', 'usual', 'presidential', 'message', 'to', 'the', 'nation', 'on', 'the', 'eve', 'of', 'ramadan', 'there', 'was', 'no', 'explanation', 'for', 'president', 'mohamed', 'taki', 's', 'decision', 'not', 'to', 'make', 'the', 'broadcast', '<PAD>', '<PAD>', '<PAD>']\n",
      "200 ['manila', 'sets', '1997', 'interim', 'budget', 'at', '449', '7', 'bln', 'pesos', 'the', 'philippine', 'government', 'has', 'set', 'an', 'interim', 'budget', 'for', '1997', 'of', '449', '7', 'billion', 'pesos', 'following', 'the', 'continuing', 'impasse', 'between', 'both', 'houses', 'of', 'congress', 'on', 'approving', 'the', 'full', 'budget', 'budget', 'secretary', 'salavador', 'enriquez', 'said', 'on', 'friday', 'the', 'cabinet', 'approved', 'the', 'amount', 'after', 'a', 'budget', 'review', 'on', 'thursday', 'he', 'said', 'the', 'budget', 'deadlock', 'came', 'about', 'after', 'the', 'opposition', 'dominated', 'senate', 'slashed', 'provisions', 'for', 'the', 'countrywide', 'development', 'fund', 'cdf', 'in', 'the', 'budget', 'by', '40', 'percent', 'to', '720', 'million', 'pesos', 'senators', 'feared', 'the', 'admistration', 'backed', 'house', 'would', 'use', 'the', 'fund', 'for', 'early', 'campaigning', 'ahead', 'of', 'the', '1998', 'presidential', 'and', 'congressional', 'elections', 'characteristic', 'of', 'his', 'impatience', 'to', 'complete', 'as', 'many', 'development', 'projects', 'as', 'he', 'can', 'before', 'his', 'term', 'ends', 'president', 'fiedl', 'ramos', 'instructed', 'us', 'not', 'to', 'wait', 'for', 'congressional', 'action', 'on', 'the', 'pending', 'budget', 'measure', 'and', 'immediately', 'release', 'available', 'money', 'to', 'begin', 'the', 'implementation', 'of', 'projects', 'slated', 'for', '1997', 'enriquez', 'said', 'in', 'a', 'statement', 'meanwhile', 'house', 'speaker', 'jose', 'de', 'venecia', 'said', 'in', 'a', 'statement', 'that', 'representaive', 'rolando', 'andaya', 'and', 'senator', 'ernesto', 'herrera', 'will', 'be', 'meeting', 'on', 'monday', 'to', 'resolve', 'the', 'budget', 'differences', 'andaya', 'and', 'herrera', 'represent', 'the', 'heads', 'of', 'the', 'finance', '<PAD>', '<PAD>', '<PAD>']\n",
      "200 ['oklahoma', 'mulling', '750', 'mln', 'road', 'bond', 'plan', 'a', 'proposal', 'expected', 'to', 'go', 'before', 'the', 'oklahoma', 'state', 'legislature', 'this', 'session', 'seeks', 'permission', 'for', 'a', '750', 'million', 'lease', 'back', 'road', 'building', 'program', 'a', 'state', 'senator', 'said', 'bond', 'rates', 'are', 'extremely', 'good', 'right', 'now', 'said', 'state', 'senator', 'larry', 'dickerson', 'd', 'district', 'four', 'the', 'bill', 's', 'author', 'the', 'bill', 'seeks', 'enabling', 'legislation', 'to', 'take', 'money', 'out', 'of', 'oklahoma', 'growth', 'revenue', 'and', 'pledge', 'it', 'for', 'the', 'state', 'road', 'building', 'plan', 'he', 'said', 'the', 'oklahoma', 'legislature', 'convenes', 'its', 'annual', 'session', 'on', 'february', '3', 'dickerson', 'said', 'under', 'the', 'proposal', 'the', 'oklahoma', 'department', 'of', 'transportation', 'would', 'develop', 'the', 'building', 'plan', 'he', 'said', 'the', 'state', 's', 'turnpike', 's', 'authority', 'would', 'then', 'sell', 'the', 'bonds', 'build', 'the', 'roads', 'and', 'then', 'lease', 'them', 'back', 'to', 'the', 'dot', 'our', 'state', 'bond', 'adviser', 'has', 'indicated', 'that', 'he', 'believes', 'these', 'bonds', 'would', 'be', 'triple', 'a', 'rated', 'and', 'because', 'they', 'would', 'be', 'handled', 'through', 'the', 'turnpike', 'authority', 'they', 'would', 'be', 'double', 'tax', 'exempt', 'dickerson', 'said', 'a', 'senate', 'press', 'release', 'said', 'the', 'turnpike', 'authority', 'would', 'issue', '20', 'year', 'bonds', 'over', 'three', 'years', 'to', 'finance', 'the', '750', 'million', 'construction', 'cost', 'given', 'inflation', 'concerns', 'issuing', '750', 'million', 'bonds', 'that', 'way', 'makes', 'more', 'financial', 'sense', 'than', '<PAD>', '<PAD>', '<PAD>']\n",
      "200 ['paraguay', 'raises', 'utility', 'tariffs', 'and', 'minimum', 'wage', 'the', 'paraguayan', 'government', 'decreed', 'wednesday', 'a', 'series', 'of', 'rises', 'in', 'utility', 'tariffs', 'together', 'with', 'a', '10', 'percent', 'rise', 'in', 'the', 'minimum', 'wage', 'the', 'measures', 'agreed', 'with', 'unions', 'and', 'businesses', 'include', 'a', '12', 'percent', 'rise', 'in', 'electricity', 'charges', '13', '2', 'percent', 'for', 'water', 'and', '10', 'percent', 'for', 'cement', 'urban', 'public', 'transport', 'tariffs', 'go', 'up', '8', '3', 'percent', '<PAD>', '<PAD>', '<PAD>', '<PAD>', '<PAD>', '<PAD>', '<PAD>', '<PAD>', '<PAD>', '<PAD>', '<PAD>', '<PAD>', '<PAD>', '<PAD>', '<PAD>', '<PAD>', '<PAD>', '<PAD>', '<PAD>', '<PAD>', '<PAD>', '<PAD>', '<PAD>', '<PAD>', '<PAD>', '<PAD>', '<PAD>', '<PAD>', '<PAD>', '<PAD>', '<PAD>', '<PAD>', '<PAD>', '<PAD>', '<PAD>', '<PAD>', '<PAD>', '<PAD>', '<PAD>', '<PAD>', '<PAD>', '<PAD>', '<PAD>', '<PAD>', '<PAD>', '<PAD>', '<PAD>', '<PAD>', '<PAD>', '<PAD>', '<PAD>', '<PAD>', '<PAD>', '<PAD>', '<PAD>', '<PAD>', '<PAD>', '<PAD>', '<PAD>', '<PAD>', '<PAD>', '<PAD>', '<PAD>', '<PAD>', '<PAD>', '<PAD>', '<PAD>', '<PAD>', '<PAD>', '<PAD>', '<PAD>', '<PAD>', '<PAD>', '<PAD>', '<PAD>', '<PAD>', '<PAD>', '<PAD>', '<PAD>', '<PAD>', '<PAD>', '<PAD>', '<PAD>', '<PAD>', '<PAD>', '<PAD>', '<PAD>', '<PAD>', '<PAD>', '<PAD>', '<PAD>', '<PAD>', '<PAD>', '<PAD>', '<PAD>', '<PAD>', '<PAD>', '<PAD>', '<PAD>', '<PAD>', '<PAD>', '<PAD>', '<PAD>', '<PAD>', '<PAD>', '<PAD>', '<PAD>', '<PAD>', '<PAD>', '<PAD>', '<PAD>', '<PAD>', '<PAD>', '<PAD>', '<PAD>', '<PAD>', '<PAD>', '<PAD>', '<PAD>', '<PAD>', '<PAD>', '<PAD>', '<PAD>', '<PAD>', '<PAD>', '<PAD>', '<PAD>', '<PAD>', '<PAD>', '<PAD>', '<PAD>', '<PAD>', '<PAD>', '<PAD>', '<PAD>', '<PAD>', '<PAD>']\n"
     ]
    }
   ],
   "source": [
    "i = 0\n",
    "for x in news_iterator:\n",
    "    i += 1\n",
    "    print(len(x), x)\n",
    "    if i == 10:\n",
    "        break"
   ]
  },
  {
   "cell_type": "code",
   "execution_count": null,
   "metadata": {
    "collapsed": true
   },
   "outputs": [],
   "source": []
  }
 ],
 "metadata": {
  "kernelspec": {
   "display_name": "Python 3",
   "language": "python",
   "name": "python3"
  },
  "language_info": {
   "codemirror_mode": {
    "name": "ipython",
    "version": 3
   },
   "file_extension": ".py",
   "mimetype": "text/x-python",
   "name": "python",
   "nbconvert_exporter": "python",
   "pygments_lexer": "ipython3",
   "version": "3.6.3"
  },
  "varInspector": {
   "cols": {
    "lenName": 16,
    "lenType": 16,
    "lenVar": 40
   },
   "kernels_config": {
    "python": {
     "delete_cmd_postfix": "",
     "delete_cmd_prefix": "del ",
     "library": "var_list.py",
     "varRefreshCmd": "print(var_dic_list())"
    },
    "r": {
     "delete_cmd_postfix": ") ",
     "delete_cmd_prefix": "rm(",
     "library": "var_list.r",
     "varRefreshCmd": "cat(var_dic_list()) "
    }
   },
   "types_to_exclude": [
    "module",
    "function",
    "builtin_function_or_method",
    "instance",
    "_Feature"
   ],
   "window_display": false
  }
 },
 "nbformat": 4,
 "nbformat_minor": 2
}
