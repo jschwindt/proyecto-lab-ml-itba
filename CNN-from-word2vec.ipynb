{
 "cells": [
  {
   "cell_type": "code",
   "execution_count": 1,
   "metadata": {
    "ExecuteTime": {
     "end_time": "2017-12-13T14:33:35.850342Z",
     "start_time": "2017-12-13T14:33:35.534621Z"
    }
   },
   "outputs": [],
   "source": [
    "%load_ext autoreload\n",
    "%autoreload 2\n",
    "%matplotlib inline\n",
    "%config InlineBackend.figure_format='retina'"
   ]
  },
  {
   "cell_type": "code",
   "execution_count": 2,
   "metadata": {
    "ExecuteTime": {
     "end_time": "2017-12-13T14:33:38.337880Z",
     "start_time": "2017-12-13T14:33:36.654873Z"
    }
   },
   "outputs": [
    {
     "name": "stderr",
     "output_type": "stream",
     "text": [
      "Using TensorFlow backend.\n",
      "/usr/local/Cellar/python3/3.6.3/Frameworks/Python.framework/Versions/3.6/lib/python3.6/importlib/_bootstrap.py:219: RuntimeWarning: compiletime version 3.5 of module 'tensorflow.python.framework.fast_tensor_util' does not match runtime version 3.6\n",
      "  return f(*args, **kwds)\n"
     ]
    }
   ],
   "source": [
    "import re\n",
    "import glob\n",
    "import nltk\n",
    "import numpy as np\n",
    "from fit_generator import label_from_id, all_labels\n",
    "from keras.models import Sequential, Model\n",
    "from keras.layers import Dense, Dropout, Flatten, Input, MaxPooling1D, Convolution1D, Embedding\n",
    "from keras.layers.merge import Concatenate\n",
    "from keras.preprocessing.text import Tokenizer\n",
    "from keras import optimizers\n",
    "from keras.callbacks import ModelCheckpoint \n",
    "from fnn_helper import PlotLosses\n",
    "from keras import regularizers\n",
    "from sklearn.model_selection import train_test_split\n",
    "from gensim.models import word2vec as w2v\n",
    "import matplotlib.pyplot as plt\n",
    "import scipy\n",
    "import iterator_and_text_cleaner as it"
   ]
  },
  {
   "cell_type": "code",
   "execution_count": 3,
   "metadata": {
    "ExecuteTime": {
     "end_time": "2017-12-13T14:34:00.334977Z",
     "start_time": "2017-12-13T14:33:59.488199Z"
    }
   },
   "outputs": [],
   "source": [
    "w2v_model = w2v.Word2Vec.load('word2vec.model')\n",
    "word2index = { word:idx for idx,word in enumerate(w2v_model.wv.index2word) }"
   ]
  },
  {
   "cell_type": "code",
   "execution_count": 4,
   "metadata": {
    "ExecuteTime": {
     "end_time": "2017-12-13T14:34:14.499067Z",
     "start_time": "2017-12-13T14:34:14.467726Z"
    }
   },
   "outputs": [],
   "source": [
    "source_path = '../converted/'\n",
    "words_per_article = 300"
   ]
  },
  {
   "cell_type": "code",
   "execution_count": 5,
   "metadata": {
    "ExecuteTime": {
     "end_time": "2017-12-13T14:34:22.353177Z",
     "start_time": "2017-12-13T14:34:21.950485Z"
    }
   },
   "outputs": [
    {
     "data": {
      "text/plain": [
       "104785"
      ]
     },
     "execution_count": 5,
     "metadata": {},
     "output_type": "execute_result"
    }
   ],
   "source": [
    "txt_files = glob.glob(source_path + '*')\n",
    "len(txt_files)"
   ]
  },
  {
   "cell_type": "code",
   "execution_count": 6,
   "metadata": {
    "ExecuteTime": {
     "end_time": "2017-12-13T14:34:23.392584Z",
     "start_time": "2017-12-13T14:34:23.359216Z"
    }
   },
   "outputs": [],
   "source": [
    "Y = np.load('y.npy')\n",
    "NUM_CATEGORIES = Y.shape[1]"
   ]
  },
  {
   "cell_type": "code",
   "execution_count": 7,
   "metadata": {
    "ExecuteTime": {
     "end_time": "2017-12-13T14:34:46.765280Z",
     "start_time": "2017-12-13T14:34:46.734374Z"
    }
   },
   "outputs": [
    {
     "data": {
      "text/plain": [
       "(104785, 5)"
      ]
     },
     "execution_count": 7,
     "metadata": {},
     "output_type": "execute_result"
    }
   ],
   "source": [
    "Y.shape"
   ]
  },
  {
   "cell_type": "code",
   "execution_count": 8,
   "metadata": {
    "ExecuteTime": {
     "end_time": "2017-12-13T00:34:06.797154Z",
     "start_time": "2017-12-13T00:34:06.737279Z"
    }
   },
   "outputs": [],
   "source": [
    "x_train_files, x_test_files, y_train, y_test = train_test_split(txt_files, Y, test_size=0.33)"
   ]
  },
  {
   "cell_type": "code",
   "execution_count": 9,
   "metadata": {
    "ExecuteTime": {
     "end_time": "2017-12-13T00:34:06.830304Z",
     "start_time": "2017-12-13T00:34:06.798814Z"
    }
   },
   "outputs": [
    {
     "data": {
      "text/plain": [
       "70205"
      ]
     },
     "execution_count": 9,
     "metadata": {},
     "output_type": "execute_result"
    }
   ],
   "source": [
    "len(x_train_files)"
   ]
  },
  {
   "cell_type": "code",
   "execution_count": 10,
   "metadata": {
    "ExecuteTime": {
     "end_time": "2017-12-13T00:34:06.884770Z",
     "start_time": "2017-12-13T00:34:06.831843Z"
    }
   },
   "outputs": [],
   "source": [
    "def batch_generator(x_files, y, samples_per_epoch, batch_size):\n",
    "    number_of_batches = samples_per_epoch//batch_size\n",
    "    counter=0\n",
    "    shuffle_index = np.arange(np.shape(y)[0])\n",
    "    np.random.shuffle(shuffle_index)\n",
    "    x_files =  np.array(x_files)[shuffle_index]\n",
    "    y = y[shuffle_index]\n",
    "    while 1:\n",
    "        index_batch = shuffle_index[batch_size*counter:batch_size*(counter+1)]\n",
    "        X_batch = []\n",
    "        for xfile in x_files[index_batch]:\n",
    "            X_batch.append(it.article_indices(word2index, xfile, words_per_article))\n",
    "        y_batch = y[index_batch]\n",
    "        counter += 1\n",
    "        yield(np.array(X_batch),y_batch)\n",
    "        if (counter >= number_of_batches):\n",
    "            np.random.shuffle(shuffle_index)\n",
    "            counter=0"
   ]
  },
  {
   "cell_type": "code",
   "execution_count": 11,
   "metadata": {
    "ExecuteTime": {
     "end_time": "2017-12-13T00:34:06.921114Z",
     "start_time": "2017-12-13T00:34:06.886336Z"
    }
   },
   "outputs": [],
   "source": [
    "# Model Hyperparameters\n",
    "filter_sizes = (3, 4, 5)\n",
    "num_filters = 3\n",
    "dropout_prob = 0.5\n",
    "hidden_dims = 50\n",
    "\n",
    "# Training parameters\n",
    "batch_size = 32\n",
    "num_epochs = 10"
   ]
  },
  {
   "cell_type": "code",
   "execution_count": 15,
   "metadata": {
    "ExecuteTime": {
     "end_time": "2017-12-13T01:04:18.355956Z",
     "start_time": "2017-12-13T01:04:18.121227Z"
    }
   },
   "outputs": [
    {
     "name": "stdout",
     "output_type": "stream",
     "text": [
      "__________________________________________________________________________________________________\n",
      "Layer (type)                    Output Shape         Param #     Connected to                     \n",
      "==================================================================================================\n",
      "Input (InputLayer)              (None, 300)          0                                            \n",
      "__________________________________________________________________________________________________\n",
      "embedding_2 (Embedding)         (None, 300, 200)     9463400     Input[0][0]                      \n",
      "__________________________________________________________________________________________________\n",
      "conv1d_4 (Conv1D)               (None, 298, 3)       1803        embedding_2[0][0]                \n",
      "__________________________________________________________________________________________________\n",
      "conv1d_5 (Conv1D)               (None, 297, 3)       2403        embedding_2[0][0]                \n",
      "__________________________________________________________________________________________________\n",
      "conv1d_6 (Conv1D)               (None, 296, 3)       3003        embedding_2[0][0]                \n",
      "__________________________________________________________________________________________________\n",
      "max_pooling1d_4 (MaxPooling1D)  (None, 29, 3)        0           conv1d_4[0][0]                   \n",
      "__________________________________________________________________________________________________\n",
      "max_pooling1d_5 (MaxPooling1D)  (None, 29, 3)        0           conv1d_5[0][0]                   \n",
      "__________________________________________________________________________________________________\n",
      "max_pooling1d_6 (MaxPooling1D)  (None, 29, 3)        0           conv1d_6[0][0]                   \n",
      "__________________________________________________________________________________________________\n",
      "flatten_4 (Flatten)             (None, 87)           0           max_pooling1d_4[0][0]            \n",
      "__________________________________________________________________________________________________\n",
      "flatten_5 (Flatten)             (None, 87)           0           max_pooling1d_5[0][0]            \n",
      "__________________________________________________________________________________________________\n",
      "flatten_6 (Flatten)             (None, 87)           0           max_pooling1d_6[0][0]            \n",
      "__________________________________________________________________________________________________\n",
      "concatenate_2 (Concatenate)     (None, 261)          0           flatten_4[0][0]                  \n",
      "                                                                 flatten_5[0][0]                  \n",
      "                                                                 flatten_6[0][0]                  \n",
      "__________________________________________________________________________________________________\n",
      "dense_2 (Dense)                 (None, 5)            1310        concatenate_2[0][0]              \n",
      "==================================================================================================\n",
      "Total params: 9,471,919\n",
      "Trainable params: 8,519\n",
      "Non-trainable params: 9,463,400\n",
      "__________________________________________________________________________________________________\n"
     ]
    }
   ],
   "source": [
    "model_input = Input(shape=(words_per_article,), name=\"Input\")\n",
    "#embedding = w2v_model.wv.get_keras_embedding(train_embeddings=False)\n",
    "embedding = Embedding(input_dim=len(w2v_model.wv.vocab), output_dim=200, trainable=False)\n",
    "conv_input = embedding(model_input)\n",
    "\n",
    "conv_blocks = []\n",
    "for sz in filter_sizes:\n",
    "    conv = Convolution1D(filters=num_filters,\n",
    "                         kernel_size=sz,\n",
    "                         padding=\"valid\",\n",
    "                         activation=\"relu\",\n",
    "                         strides=1)(conv_input)\n",
    "    conv = MaxPooling1D(pool_size=10)(conv)\n",
    "    conv = Flatten()(conv)\n",
    "    conv_blocks.append(conv)\n",
    "z = Concatenate()(conv_blocks)\n",
    "# z = Dropout(dropout_prob)(z)\n",
    "# z = Dense(hidden_dims, activation=\"relu\")(z)\n",
    "model_output = Dense(NUM_CATEGORIES, activation=\"sigmoid\")(z)\n",
    "model = Model(model_input, model_output)\n",
    "model.compile(loss=\"binary_crossentropy\", optimizer=\"adam\", metrics=[\"accuracy\"])\n",
    "model.summary()"
   ]
  },
  {
   "cell_type": "code",
   "execution_count": 16,
   "metadata": {
    "ExecuteTime": {
     "end_time": "2017-12-13T01:04:24.858743Z",
     "start_time": "2017-12-13T01:04:24.807136Z"
    }
   },
   "outputs": [],
   "source": [
    "def train_model(model, x_train_files, x_test_files, y_train, y_test, weights_file=None, batch_size=16, epochs=10):\n",
    "    plot_losses = PlotLosses(plot_interval=1, evaluate_interval=None)\n",
    "    callbacks = [plot_losses]\n",
    "\n",
    "    if weights_file != None:\n",
    "        checkpointer = ModelCheckpoint(filepath=weights_file, verbose=0, save_best_only=True)\n",
    "        callbacks.append(checkpointer)\n",
    "\n",
    "    steps_per_epoch = y_train.shape[0] // batch_size\n",
    "    print(\"Steps per epoch = \", steps_per_epoch)\n",
    "    generator = batch_generator(x_train_files, y_train, samples_per_epoch=steps_per_epoch, batch_size=batch_size)\n",
    "    vals_per_epoc = y_test.shape[0] // batch_size\n",
    "    val_generator = batch_generator(x_test_files, y_test, samples_per_epoch=vals_per_epoc, batch_size=batch_size)\n",
    "    result = model.fit_generator(\n",
    "        generator,\n",
    "        steps_per_epoch=steps_per_epoch,\n",
    "        epochs=epochs,\n",
    "        validation_data=val_generator,\n",
    "        validation_steps=vals_per_epoc,\n",
    "        verbose=1,\n",
    "        callbacks=callbacks,\n",
    "    )\n",
    "    return result"
   ]
  },
  {
   "cell_type": "code",
   "execution_count": 17,
   "metadata": {
    "ExecuteTime": {
     "end_time": "2017-12-13T02:00:25.738290Z",
     "start_time": "2017-12-13T01:04:28.339433Z"
    }
   },
   "outputs": [
    {
     "data": {
      "image/png": "[encoded data removed]",
      "text/plain": [
       "<matplotlib.figure.Figure at 0x11eff3cf8>"
      ]
     },
     "metadata": {
      "image/png": {
       "height": 304,
       "width": 1167
      }
     },
     "output_type": "display_data"
    },
    {
     "name": "stdout",
     "output_type": "stream",
     "text": [
      "\b\b\b\b\b\b\b\b\b\b\b\b\b\b\b\b\b\b\b\b\b\b\b\b\b\b\b\b\b\b\b\b\b\b\b\b\b\b\b\b\b\b\b\b\b\b\b\b\b\b\b\b\b\b\b\b\b\b\b\b\b\b\b\b\b\b\b\b\b\b\b\b\b\b\b\b\b\b\b\b\b\r",
      "2193/2193 [==============================] - 110s 50ms/step - loss: 0.0545 - acc: 0.9803 - val_loss: 0.0939 - val_acc: 0.9672\n"
     ]
    },
    {
     "data": {
      "text/plain": [
       "<keras.callbacks.History at 0x13a9926d8>"
      ]
     },
     "execution_count": 17,
     "metadata": {},
     "output_type": "execute_result"
    }
   ],
   "source": [
    "train_model(model, x_train_files, x_test_files, y_train, y_test, weights_file='w2vec-cnn-3.weights',\n",
    "            batch_size=batch_size, epochs=30)"
   ]
  },
  {
   "cell_type": "code",
   "execution_count": 176,
   "metadata": {
    "ExecuteTime": {
     "end_time": "2017-12-13T03:16:40.055013Z",
     "start_time": "2017-12-13T03:16:40.022014Z"
    }
   },
   "outputs": [],
   "source": [
    "def predict_from_text(model, text):\n",
    "    indices = np.array([it.text_indices(word2index, text, words_per_article)])\n",
    "    probs = model.predict(indices)[0]\n",
    "    for i, proba in enumerate(probs):\n",
    "        if proba > .3:\n",
    "            print(all_labels[i], proba)"
   ]
  },
  {
   "cell_type": "code",
   "execution_count": 177,
   "metadata": {
    "ExecuteTime": {
     "end_time": "2017-12-13T03:16:43.060791Z",
     "start_time": "2017-12-13T03:16:43.028775Z"
    }
   },
   "outputs": [],
   "source": [
    "cnn_politics = \"Today, Democrats hold just one of the 26 Senate seats in the 13 states that, like Alabama,\\\n",
    "have voted Republican in every presidential election since 1992. Republicans in turn hold just one of the 30 \\\n",
    "Senate seats in the 15 states that voted Democratic in all seven presidential elections since then. That means \\\n",
    "if Jones wins he would be just the third senator from the opposing party to hold one of the 56 Senate seats in\\\n",
    "the 28 states that have voted the same way in each of the past seven presidential elections.\\\n",
    "The consistency between presidential and Senate results is much, much greater than it used to be,\\\n",
    "says Alan Abramowitz, a political scientist at Emory University.\""
   ]
  },
  {
   "cell_type": "code",
   "execution_count": 178,
   "metadata": {
    "ExecuteTime": {
     "end_time": "2017-12-13T03:16:44.300269Z",
     "start_time": "2017-12-13T03:16:44.268530Z"
    }
   },
   "outputs": [
    {
     "name": "stdout",
     "output_type": "stream",
     "text": [
      "POLITICS 0.998806\n"
     ]
    }
   ],
   "source": [
    "predict_from_text(model, cnn_politics)"
   ]
  },
  {
   "cell_type": "code",
   "execution_count": 179,
   "metadata": {
    "ExecuteTime": {
     "end_time": "2017-12-13T03:16:45.541433Z",
     "start_time": "2017-12-13T03:16:45.509280Z"
    }
   },
   "outputs": [],
   "source": [
    "bloomberg = \"House and Senate negotiators are planning to limit the deduction for mortgage interest to\\\n",
    "loans of $750,000 or less, according to Representative Tom MacArthur, a New Jersey Republican. MacArthur\\\n",
    "said the $750,000 limit would be positive for his district compared to the House bill. He added that lawmakers\\\n",
    "are still discussing whether to allow a deduction for state and local income taxes as part of a proposed cap of \\\n",
    "$10,000 for property taxes. He also said he’s pushing to preserve a deduction for large medical expenses that \\\n",
    "the House bill would called for eliminating. Current law limits the mortgage deduction to loans of $1 million\\\n",
    "or less. The tax break is one of the sticking points House and Senate lawmakers have been trying to resolve this\\\n",
    "week. The House bill calls for slashing the deduction cap for new purchases of homes in half -- to loans of \\\n",
    "$500,000 or less. The Senate legislation preserved the current limit.\""
   ]
  },
  {
   "cell_type": "code",
   "execution_count": 180,
   "metadata": {
    "ExecuteTime": {
     "end_time": "2017-12-13T03:16:47.325056Z",
     "start_time": "2017-12-13T03:16:47.293085Z"
    }
   },
   "outputs": [
    {
     "name": "stdout",
     "output_type": "stream",
     "text": [
      "ECONOMICS 0.916684\n",
      "POLITICS 0.984743\n"
     ]
    }
   ],
   "source": [
    "predict_from_text(model, bloomberg)"
   ]
  },
  {
   "cell_type": "code",
   "execution_count": 181,
   "metadata": {
    "ExecuteTime": {
     "end_time": "2017-12-13T03:16:48.212776Z",
     "start_time": "2017-12-13T03:16:48.180900Z"
    }
   },
   "outputs": [],
   "source": [
    "bloomberg2 = \"Despite a recent bounce back, analysts and investors say the greenback could lose more ground\\\n",
    "against the euro and yen as the prospect of strong economic growth and tighter monetary policy outside the \\\n",
    "U.S. more than offsets higher interest rates at home. The dollar is down more than 7 percent versus the world’s\\\n",
    "major currencies this year, the most in over a decade. The economic growth “we’re seeing in Europe, emerging \\\n",
    "markets and the rest of the world will likely cause the dollar to sell off again,” said Erin Browne, the head \\\n",
    "of asset allocation at UBS Asset Management, which oversees about $770 billion. When it comes to what central\\\n",
    "banks in Europe and Japan might do, “there’s very little priced in.”\""
   ]
  },
  {
   "cell_type": "code",
   "execution_count": 182,
   "metadata": {
    "ExecuteTime": {
     "end_time": "2017-12-13T03:16:49.333038Z",
     "start_time": "2017-12-13T03:16:49.300261Z"
    }
   },
   "outputs": [
    {
     "name": "stdout",
     "output_type": "stream",
     "text": [
      "ECONOMICS 0.999976\n"
     ]
    }
   ],
   "source": [
    "predict_from_text(model, bloomberg2)"
   ]
  },
  {
   "cell_type": "code",
   "execution_count": 183,
   "metadata": {
    "ExecuteTime": {
     "end_time": "2017-12-13T03:16:50.510213Z",
     "start_time": "2017-12-13T03:16:50.475979Z"
    }
   },
   "outputs": [],
   "source": [
    "cnn_sports = \"With 14 wins and just one draw so far, Manchester City are on pace to pull off the most dominant\\\n",
    "season in Premier League history -- but can they go undefeated? Since drawing with Everton in their second \\\n",
    "league game of the season, Pep Guardiola's City has won 13-matches in a row while posting a staggering 36 \\\n",
    "goal difference. heir Champions League performances been nearly as impressive, with City winning its first \\\n",
    "five matches and locking up the group before losing to Shakhtar Donetsk earlier this week.\""
   ]
  },
  {
   "cell_type": "code",
   "execution_count": 184,
   "metadata": {
    "ExecuteTime": {
     "end_time": "2017-12-13T03:16:52.075961Z",
     "start_time": "2017-12-13T03:16:52.044106Z"
    }
   },
   "outputs": [
    {
     "name": "stdout",
     "output_type": "stream",
     "text": [
      "SPORTS 0.982981\n"
     ]
    }
   ],
   "source": [
    "predict_from_text(model, cnn_sports)"
   ]
  },
  {
   "cell_type": "code",
   "execution_count": 185,
   "metadata": {
    "ExecuteTime": {
     "end_time": "2017-12-13T03:16:53.052283Z",
     "start_time": "2017-12-13T03:16:53.020070Z"
    }
   },
   "outputs": [],
   "source": [
    "cnn_entertainment = \"Disney's next installment in the \\\"Star Wars\\\" saga has become Fandango's top advance \\\n",
    "ticket-seller of the year, the online ticket site reported on Tuesday. The film, which doesn't officially open \\\n",
    "in North America until Friday with previews beginning Thursday night, toppled another Disney production, \\\n",
    "\\\"Beauty and the Beast,\\\" which came out in March, for the top spot. \\\"The Last Jedi\\\" is the biggest \\\n",
    "ticket pre-seller for Fandango since the series' last film, 2015's \\\"Star Wars: The Force Awakens,\\\" which \\\n",
    "went on to become the biggest opening in film history. \\\"The Last Jedi\\\" debuts in more than 4,100 \\\n",
    "theaters domestically and is on track for an opening weekend in the $200 million range. However, \\\n",
    "some box office analysts are saying the movie has the chance to open even higher. Fandango also put \\\n",
    "together some interesting data on why audiences are looking forward to the film, which stars Mark Hamill\\\n",
    "as Luke Skywalker and Daisy Ridley as Rey.\""
   ]
  },
  {
   "cell_type": "code",
   "execution_count": 186,
   "metadata": {
    "ExecuteTime": {
     "end_time": "2017-12-13T03:16:57.875152Z",
     "start_time": "2017-12-13T03:16:57.841591Z"
    }
   },
   "outputs": [
    {
     "name": "stdout",
     "output_type": "stream",
     "text": [
      "ENTERTAINMENT 0.871016\n"
     ]
    }
   ],
   "source": [
    "predict_from_text(model, cnn_entertainment)"
   ]
  },
  {
   "cell_type": "code",
   "execution_count": 188,
   "metadata": {
    "ExecuteTime": {
     "end_time": "2017-12-13T03:19:15.244857Z",
     "start_time": "2017-12-13T03:19:15.213362Z"
    }
   },
   "outputs": [],
   "source": [
    "cnn_tech = \"The company released a trio of free photo apps on Monday. Created as experiments by different \\\n",
    "Google (GOOG) departments, the simple mobile apps include a photo booth with pose-detecting powers, a way\\\n",
    "to remix videos like a DJ, and a tool for turning any mundane adventure into a comic book panel.\\\n",
    "The company is calling the free downloads Appsperiments, a clunky portmanteau of apps and experiments.\\\n",
    "The tools offer a peek into the future of smartphone photography, which will increasingly rely on effects \\\n",
    "created by software. An early example is the Google Pixel 2 portrait mode, which uses software to fake a \\\n",
    "shallow depth-of-field effect. The next generation of cameras will have the capability to blend hardware\\\n",
    "and computer vision algorithms,\\\" said Alex Kauffmann, an interaction researcher at Google Research, in a blog post.\""
   ]
  },
  {
   "cell_type": "code",
   "execution_count": 189,
   "metadata": {
    "ExecuteTime": {
     "end_time": "2017-12-13T03:19:24.484419Z",
     "start_time": "2017-12-13T03:19:24.452495Z"
    }
   },
   "outputs": [
    {
     "name": "stdout",
     "output_type": "stream",
     "text": [
      "ECONOMICS 0.393657\n",
      "ENTERTAINMENT 0.515269\n",
      "TECHNOLOGY 0.313365\n"
     ]
    }
   ],
   "source": [
    "predict_from_text(model, cnn_tech)"
   ]
  },
  {
   "cell_type": "code",
   "execution_count": null,
   "metadata": {},
   "outputs": [],
   "source": []
  }
 ],
 "metadata": {
  "kernelspec": {
   "display_name": "Python 3",
   "language": "python",
   "name": "python3"
  },
  "language_info": {
   "codemirror_mode": {
    "name": "ipython",
    "version": 3
   },
   "file_extension": ".py",
   "mimetype": "text/x-python",
   "name": "python",
   "nbconvert_exporter": "python",
   "pygments_lexer": "ipython3",
   "version": "3.6.3"
  },
  "varInspector": {
   "cols": {
    "lenName": 16,
    "lenType": 16,
    "lenVar": 40
   },
   "kernels_config": {
    "python": {
     "delete_cmd_postfix": "",
     "delete_cmd_prefix": "del ",
     "library": "var_list.py",
     "varRefreshCmd": "print(var_dic_list())"
    },
    "r": {
     "delete_cmd_postfix": ") ",
     "delete_cmd_prefix": "rm(",
     "library": "var_list.r",
     "varRefreshCmd": "cat(var_dic_list()) "
    }
   },
   "types_to_exclude": [
    "module",
    "function",
    "builtin_function_or_method",
    "instance",
    "_Feature"
   ],
   "window_display": false
  }
 },
 "nbformat": 4,
 "nbformat_minor": 2
}
